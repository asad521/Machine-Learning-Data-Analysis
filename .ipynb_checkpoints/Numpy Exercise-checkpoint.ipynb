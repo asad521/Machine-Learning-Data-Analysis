{
 "cells": [
  {
   "cell_type": "code",
   "execution_count": 1,
   "metadata": {},
   "outputs": [],
   "source": [
    "import numpy as np\n"
   ]
  },
  {
   "cell_type": "code",
   "execution_count": 61,
   "metadata": {},
   "outputs": [
    {
     "name": "stdout",
     "output_type": "stream",
     "text": [
      "[[ 1  2  3]\n",
      " [ 4  5  6]\n",
      " [ 4  0 67]\n",
      " [ 4  6  7]]\n"
     ]
    }
   ],
   "source": [
    "A=[[1,2,3],[4,5,6],[4,0,67],[4,6,7]]\n",
    "num=np.array(A)\n",
    "print(num)"
   ]
  },
  {
   "cell_type": "code",
   "execution_count": 62,
   "metadata": {},
   "outputs": [
    {
     "data": {
      "text/plain": [
       "2"
      ]
     },
     "execution_count": 62,
     "metadata": {},
     "output_type": "execute_result"
    }
   ],
   "source": [
    "num.ndim\n"
   ]
  },
  {
   "cell_type": "code",
   "execution_count": 63,
   "metadata": {},
   "outputs": [
    {
     "data": {
      "text/plain": [
       "(4, 3)"
      ]
     },
     "execution_count": 63,
     "metadata": {},
     "output_type": "execute_result"
    }
   ],
   "source": [
    "num.shape"
   ]
  },
  {
   "cell_type": "code",
   "execution_count": 64,
   "metadata": {},
   "outputs": [
    {
     "data": {
      "text/plain": [
       "dtype('int32')"
      ]
     },
     "execution_count": 64,
     "metadata": {},
     "output_type": "execute_result"
    }
   ],
   "source": [
    "num.dtype"
   ]
  },
  {
   "cell_type": "code",
   "execution_count": 69,
   "metadata": {},
   "outputs": [
    {
     "name": "stdout",
     "output_type": "stream",
     "text": [
      "[0. 0. 0. 0. 0. 0.]\n"
     ]
    },
    {
     "data": {
      "text/plain": [
       "dtype('float64')"
      ]
     },
     "execution_count": 69,
     "metadata": {},
     "output_type": "execute_result"
    }
   ],
   "source": [
    "num=np.zeros(6)\n",
    "print(num)\n",
    "num.shape\n",
    "num.dtype"
   ]
  },
  {
   "cell_type": "code",
   "execution_count": 85,
   "metadata": {},
   "outputs": [
    {
     "name": "stdout",
     "output_type": "stream",
     "text": [
      "[[0 0 0 0]\n",
      " [0 0 0 0]\n",
      " [0 0 0 0]]\n"
     ]
    },
    {
     "data": {
      "text/plain": [
       "dtype('int32')"
      ]
     },
     "execution_count": 85,
     "metadata": {},
     "output_type": "execute_result"
    }
   ],
   "source": [
    "#numpy.zeros(shape, dtype=float, order='C')¶\n",
    "num=np.zeros((3,4),dtype=int,order='F') #Can be tuple of single int for 1d\n",
    "print(num)\n",
    "num.shape\n",
    "num.dtype"
   ]
  },
  {
   "cell_type": "code",
   "execution_count": 109,
   "metadata": {},
   "outputs": [
    {
     "name": "stdout",
     "output_type": "stream",
     "text": [
      "[[1. 0. 0. 0.]\n",
      " [0. 1. 0. 0.]\n",
      " [0. 0. 1. 0.]\n",
      " [0. 0. 0. 1.]\n",
      " [0. 0. 0. 0.]\n",
      " [0. 0. 0. 0.]]\n"
     ]
    },
    {
     "data": {
      "text/plain": [
       "(6, 4)"
      ]
     },
     "execution_count": 109,
     "metadata": {},
     "output_type": "execute_result"
    }
   ],
   "source": [
    "#numpy.zeros(shape, dtype=float, order='C')\n",
    "num=np.eye(6,4) #Can be tuple of single int for 1d\n",
    "print(num)\n",
    "num.dtype\n",
    "num.shape\n",
    "\n"
   ]
  },
  {
   "cell_type": "code",
   "execution_count": 112,
   "metadata": {},
   "outputs": [
    {
     "name": "stdout",
     "output_type": "stream",
     "text": [
      "[[ 4  0  0  0]\n",
      " [ 0  5  0  0]\n",
      " [ 0  0 67  0]\n",
      " [ 0  0  0  9]]\n"
     ]
    }
   ],
   "source": [
    "num=np.diag([4,5,67,9])\n",
    "print(num)"
   ]
  },
  {
   "cell_type": "code",
   "execution_count": 145,
   "metadata": {},
   "outputs": [
    {
     "name": "stdout",
     "output_type": "stream",
     "text": [
      "[[ 7  1  2 10  6]\n",
      " [ 2  2 12  9  6]\n",
      " [ 2  4  1  9 10]\n",
      " [13  7  8  2  5]]\n"
     ]
    }
   ],
   "source": [
    "# numpy.random.randint(low, high=None, size=None, dtype='l')¶ \n",
    "#To generate matrix with random integer\n",
    "num=np.random.randint(1,14,size=(4,5))\n",
    "print(num)\n"
   ]
  },
  {
   "cell_type": "code",
   "execution_count": 146,
   "metadata": {},
   "outputs": [
    {
     "name": "stdout",
     "output_type": "stream",
     "text": [
      "[[0.67445053 0.52438041 0.77712806 0.99542593 0.65410545]\n",
      " [0.01129944 0.70704686 0.99636529 0.34870453 0.3146288 ]\n",
      " [0.30021291 0.92533329 0.88560654 0.74037171 0.97108722]]\n"
     ]
    }
   ],
   "source": [
    "# numpy.random.rand(2,3)¶ \n",
    "#To generate matrix with random values between 0 to 1\n",
    "num=np.random.rand(3,5)\n",
    "print(num)"
   ]
  },
  {
   "cell_type": "code",
   "execution_count": 148,
   "metadata": {},
   "outputs": [
    {
     "name": "stdout",
     "output_type": "stream",
     "text": [
      "[[-0.20986341  0.46571982 -0.26361417  2.0453406  -0.00296546]\n",
      " [ 1.10928901  1.22542796 -1.33505923  0.31987927  2.10448782]\n",
      " [-0.5163144   0.04519479  1.16957663  0.79026412  1.16169271]]\n"
     ]
    },
    {
     "data": {
      "text/plain": [
       "0.5406037374599388"
      ]
     },
     "execution_count": 148,
     "metadata": {},
     "output_type": "execute_result"
    }
   ],
   "source": [
    "# numpy.random.randn(2,3)¶ \n",
    "#To generate matrix with random values between 0 to 1 with standard normal distrubution\n",
    "#It means will also be near zero\n",
    "num=np.random.randn(3,5)\n",
    "print(num)\n",
    "np.mean(num)"
   ]
  },
  {
   "cell_type": "code",
   "execution_count": 142,
   "metadata": {},
   "outputs": [
    {
     "data": {
      "text/plain": [
       "-0.06594111678063724"
      ]
     },
     "execution_count": 142,
     "metadata": {},
     "output_type": "execute_result"
    }
   ],
   "source": [
    "np.mean(num)"
   ]
  },
  {
   "cell_type": "code",
   "execution_count": 155,
   "metadata": {},
   "outputs": [
    {
     "name": "stdout",
     "output_type": "stream",
     "text": [
      "[ 6 14 13 12  6  8  3  2 15 15  2  2 13 15 16  4  8 10 11  5]\n"
     ]
    }
   ],
   "source": [
    "# reshape ,converting 1d to 2/3 d array\n",
    "num=np.random.randint(1,20,size=20) #Genrating 1d array of 20element\n",
    "print(num)"
   ]
  },
  {
   "cell_type": "code",
   "execution_count": 162,
   "metadata": {},
   "outputs": [
    {
     "name": "stdout",
     "output_type": "stream",
     "text": [
      "[[ 6 14 13 12  6]\n",
      " [ 8  3  2 15 15]\n",
      " [ 2  2 13 15 16]\n",
      " [ 4  8 10 11  5]]\n"
     ]
    }
   ],
   "source": [
    "num2=num.reshape(4,5) # Muliplication of these two(4,5) must be equal to total size of 1d array\n",
    "print(num2)"
   ]
  },
  {
   "cell_type": "code",
   "execution_count": 170,
   "metadata": {},
   "outputs": [
    {
     "name": "stdout",
     "output_type": "stream",
     "text": [
      "[[ 6 14]\n",
      " [13 12]\n",
      " [ 6  8]\n",
      " [ 3  2]\n",
      " [15 15]\n",
      " [ 2  2]\n",
      " [13 15]\n",
      " [16  4]\n",
      " [ 8 10]\n",
      " [11  5]]\n"
     ]
    }
   ],
   "source": [
    "# you can also provide only one value(row or columuns) and metion -1 in other palce, python will automatically \n",
    "#calculation the size of row or coloumn\n",
    "num3=num.reshape(10,-1) #Python automatically calculated coloumn value of two \n",
    "print(num3)"
   ]
  },
  {
   "cell_type": "code",
   "execution_count": 191,
   "metadata": {},
   "outputs": [
    {
     "name": "stdout",
     "output_type": "stream",
     "text": [
      "[[ 9  4  8 16]\n",
      " [17 11  3  3]\n",
      " [ 3 15  3 18]\n",
      " [17 16  5 12]]\n"
     ]
    },
    {
     "data": {
      "text/plain": [
       "3"
      ]
     },
     "execution_count": 191,
     "metadata": {},
     "output_type": "execute_result"
    }
   ],
   "source": [
    "#Index little practice\n",
    "#Index is similar to list, or any o(ther matrix like \n",
    "#we used to do in  matlab, speficy [row,colomun]\n",
    "#row and column start from zero\n",
    "num=np.random.randint(1,20,size=(4,4)) \n",
    "print(num)\n",
    "num[2][2]"
   ]
  },
  {
   "cell_type": "code",
   "execution_count": 197,
   "metadata": {},
   "outputs": [
    {
     "name": "stdout",
     "output_type": "stream",
     "text": [
      "[[ 9  4  8 16]\n",
      " [17 11  3  3]\n",
      " [ 3 15  3 18]\n",
      " [17 16  5 12]]\n"
     ]
    },
    {
     "data": {
      "text/plain": [
       "array([[11,  3],\n",
       "       [15,  3],\n",
       "       [16,  5]])"
      ]
     },
     "execution_count": 197,
     "metadata": {},
     "output_type": "execute_result"
    }
   ],
   "source": [
    "#Slicing is also similar to list.\n",
    "# Since it is 2d matrix. Then we used to define range of rows and coloumns to extract values\n",
    "np.random.seed(100) #This line is used to creat same value array everytime we execute code\n",
    "num=np.random.randint(1,20,size=(4,4)) \n",
    "print(num)\n",
    "num[1:4,1:3] #Just we specify range of rows anrd columns\n",
    "# For final value of row and columns ,we usslay right one big value ( row:row+1, column:cloumn+1)"
   ]
  },
  {
   "cell_type": "code",
   "execution_count": 209,
   "metadata": {},
   "outputs": [
    {
     "name": "stdout",
     "output_type": "stream",
     "text": [
      "[[177 138 178  54 112]\n",
      " [163 132 103 140  50]\n",
      " [ 30  37  94 196 155]\n",
      " [114  53 165 160  86]]\n",
      "Sliced array is\n",
      "[[177 138 178]\n",
      " [163 132 103]\n",
      " [ 30  37  94]]\n",
      "Printing orignal array.You can c values has been changed\n",
      "[[  0   0   0  54 112]\n",
      " [  0   0   0 140  50]\n",
      " [  0   0   0 196 155]\n",
      " [114  53 165 160  86]]\n",
      "To avoid this, We just add copy method after slicing\n",
      "We sliced whole array and make it 0\n",
      "[[0 0 0 0 0]\n",
      " [0 0 0 0 0]\n",
      " [0 0 0 0 0]\n",
      " [0 0 0 0 0]]\n",
      "Printing original array.Values did not change\n",
      "[[  0   0   0  54 112]\n",
      " [  0   0   0 140  50]\n",
      " [  0   0   0 196 155]\n",
      " [114  53 165 160  86]]\n"
     ]
    }
   ],
   "source": [
    "#View vs Copy\n",
    "# impotant note. When you clice any array in num, and make it a new one. Then changine\n",
    "#value in new array(sliced) will also change values in original array.\n",
    "#It means slicing is just reflection of original array.even if you save it to new variable\n",
    "np.random.seed\n",
    "num=np.random.randint(1,199,size=(4,5))\n",
    "print(num)\n",
    "sliced=num[:3,:3] #Lets slice the num array and assigned it to new\n",
    "print(\"Sliced array is\")\n",
    "print(sliced)\n",
    "sliced[:]=0       #Chaning values of sliced array\n",
    "print(\"Printing orignal array.You can c values has been changed\")\n",
    "print(num)\n",
    "print(\"To avoid this, We just add copy method after slicing\")\n",
    "sliced=num[:,:].copy() #Lets slice the num array and assigned it to new\n",
    "sliced[:]=0\n",
    "print(\"We sliced whole array and make it 0\")\n",
    "print(sliced)\n",
    "print(\"Printing original array.Values did not change\")\n",
    "print(num)"
   ]
  },
  {
   "cell_type": "code",
   "execution_count": 246,
   "metadata": {},
   "outputs": [
    {
     "name": "stdout",
     "output_type": "stream",
     "text": [
      "[[36 27 16 32 29]\n",
      " [27 10 21 12 23]\n",
      " [ 8 35 33 41 22]\n",
      " [27 27 20 17 39]\n",
      " [39 17 42 38  8]]\n",
      "[[ True  True  True  True  True]\n",
      " [ True False  True False  True]\n",
      " [False  True  True  True  True]\n",
      " [ True  True  True  True  True]\n",
      " [ True  True  True  True False]]\n",
      "[[36 27 16 32 29]\n",
      " [27 10 21 12 23]\n",
      " [ 8 35 33 41 22]\n",
      " [27 27 20 17 39]\n",
      " [39 17 42 38  8]]\n",
      "[[36 27 16 32 29]\n",
      " [27 10 21 12 23]\n",
      " [ 8 35 33 41 22]\n",
      " [27 27 20 17 39]\n",
      " [39 17 42 38  8]]\n",
      "[[ 0 27  0  0 29]\n",
      " [27  0 21  0 23]\n",
      " [ 0 35 33 41  0]\n",
      " [27 27  0 17 39]\n",
      " [39 17  0  0  0]]\n"
     ]
    }
   ],
   "source": [
    "# conditional satement in array.\n",
    "#Playing with values\n",
    "np.random.seed(20)\n",
    "num=np.random.randint(1,44,size=(5,5))\n",
    "print(num)\n",
    "#write any condition for numpy array.it will give boolean values output\n",
    "mask=num>14\n",
    "print(mask) #it gave boolean output\n",
    "#assign all value>14 to zero \n",
    "#num[mask]=0\n",
    "print(num)\n",
    "# Shortcut is this.Write condition inside[]. It will give values that fullfill condition\n",
    "num[num%2==0]\n",
    "print(num)\n",
    "#Or you cann assing new value\n",
    "num[num%2==0]=0\n",
    "print(num)\n",
    "\n"
   ]
  },
  {
   "cell_type": "code",
   "execution_count": 248,
   "metadata": {},
   "outputs": [
    {
     "name": "stdout",
     "output_type": "stream",
     "text": [
      "[[36 27 16 32 29]\n",
      " [27 10 21 12 23]\n",
      " [ 8 35 33 41 22]\n",
      " [27 27 20 17 39]\n",
      " [39 17 42 38  8]]\n",
      "[[72 54 32 64 58]\n",
      " [54 20 42 24 46]\n",
      " [16 70 66 82 44]\n",
      " [54 54 40 34 78]\n",
      " [78 34 84 76 16]]\n",
      "[[38 29 18 34 31]\n",
      " [29 12 23 14 25]\n",
      " [10 37 35 43 24]\n",
      " [29 29 22 19 41]\n",
      " [41 19 44 40 10]]\n",
      "[[34 25 14 30 27]\n",
      " [25  8 19 10 21]\n",
      " [ 6 33 31 39 20]\n",
      " [25 25 18 15 37]\n",
      " [37 15 40 36  6]]\n"
     ]
    }
   ],
   "source": [
    "#Other matlab functions\n",
    "np.random.seed(20)\n",
    "num=np.random.randint(1,44,size=(5,5))\n",
    "#perform simple mathematicain with scaler\n",
    "print(num)\n",
    "print(num*2)\n",
    "print(num+2)\n",
    "print(num-2)\n",
    "\n"
   ]
  },
  {
   "cell_type": "code",
   "execution_count": 260,
   "metadata": {},
   "outputs": [
    {
     "name": "stdout",
     "output_type": "stream",
     "text": [
      "[[5 1 2]\n",
      " [1 2 9]\n",
      " [1 9 7]]\n",
      "Plus operation \n",
      " [[10  2  4]\n",
      " [ 2  4 18]\n",
      " [ 2 18 14]]\n",
      "Multiple operation\n",
      " [[25  1  4]\n",
      " [ 1  4 81]\n",
      " [ 1 81 49]]\n",
      "Exponent operation\n",
      " [[     3125         1         4]\n",
      " [        1         4 387420489]\n",
      " [        1 387420489    823543]]\n",
      "Dot product\n",
      " [[ 28  25  33]\n",
      " [ 16  86  83]\n",
      " [ 21  82 132]]\n"
     ]
    }
   ],
   "source": [
    "### perform mathamtics between two array\n",
    "np.random.seed(10)\n",
    "num=np.random.randint(1,10,size=(3,3))\n",
    "print(num)\n",
    "print(f\"Plus operation \\n {num+num}\")\n",
    "print(f\"Multiple operation\\n {num*num}\")\n",
    "print(f\"Exponent operation\\n {num**num}\")\n",
    "print(f\"Dot product\\n {num.dot(num)}\")"
   ]
  },
  {
   "cell_type": "code",
   "execution_count": 297,
   "metadata": {},
   "outputs": [
    {
     "name": "stdout",
     "output_type": "stream",
     "text": [
      "[[5 1 2]\n",
      " [1 2 9]\n",
      " [1 9 7]]\n",
      "minimum of all columns\n",
      "[1 1 2]\n",
      "sum all element is :37\n",
      "sum all rows  :[ 8 12 17]\n",
      "[[5 1 2]\n",
      " [1 2 9]\n",
      " [1 9 7]]\n",
      "[[ True  True False]\n",
      " [ True False  True]]\n"
     ]
    }
   ],
   "source": [
    "# Other function\n",
    "# Rows=1 , COlumns=0\n",
    "np.random.seed(10)\n",
    "num=np.random.randint(1,10,size=(3,3))\n",
    "print(num)\n",
    "np.min(num)\n",
    "print(\"minimum of all columns\")\n",
    "print(np.min(num, axis=0))\n",
    "print(f\"sum all element is :{np.sum(num)}\")\n",
    "print(f\"sum all rows  :{np.sum(num, axis=1)}\")\n",
    "\n",
    "np.argmax(num)#giving index of max value\n",
    "np.sqrt(num)\n",
    "np.sum(num)\n",
    "print(num)\n",
    "np.linspace(1,50,30) #giving 30 numbers between 1 to 50  evenly spaced \n",
    "#TO make any array boolar just pass dtype\n",
    "num=np.array(([1,3,0],[3,0,4]), dtype='bool')\n",
    "print(num)\n",
    "# if you want to perform  above function (min,max,sum) row and columwise , jsut add axis\n"
   ]
  },
  {
   "cell_type": "code",
   "execution_count": 308,
   "metadata": {},
   "outputs": [
    {
     "name": "stdout",
     "output_type": "stream",
     "text": [
      "[[5 1 2]\n",
      " [1 2 9]\n",
      " [1 9 7]]\n",
      "[[1 9 7]\n",
      " [1 2 9]\n",
      " [5 1 2]]\n"
     ]
    },
    {
     "data": {
      "text/plain": [
       "(array([1, 2, 5, 7, 9]),\n",
       " array([0, 4, 6, 2, 1], dtype=int64),\n",
       " array([3, 2, 1, 1, 2], dtype=int64))"
      ]
     },
     "execution_count": 308,
     "metadata": {},
     "output_type": "execute_result"
    }
   ],
   "source": [
    "np.random.seed(10)\n",
    "num=np.random.randint(1,10,size=(3,3))\n",
    "print(num)\n",
    "np.random.shuffle(num)\n",
    "print(num)\n",
    "np.unique(num)\n",
    "np.unique(num).size # how many unique element\n",
    "np.unique(num, return_index=True, return_counts=True) #Giving unique element with their index their counts"
   ]
  },
  {
   "cell_type": "code",
   "execution_count": 320,
   "metadata": {},
   "outputs": [
    {
     "name": "stdout",
     "output_type": "stream",
     "text": [
      "[[1 3 5]\n",
      " [3 6 7]]\n",
      "[[ 5  4 55]\n",
      " [23 63 72]]\n"
     ]
    },
    {
     "data": {
      "text/plain": [
       "array([[ 1,  3,  5],\n",
       "       [ 3,  6,  7],\n",
       "       [ 5,  4, 55],\n",
       "       [23, 63, 72]])"
      ]
     },
     "execution_count": 320,
     "metadata": {},
     "output_type": "execute_result"
    }
   ],
   "source": [
    "num1=np.array(([1,3,5],[3,6,7]))\n",
    "\n",
    "num2=np.array(([5,4,55],[23,63,72]))\n",
    "print(num1)\n",
    "print(num2)\n",
    "np.hstack((num1,num2))\n",
    "np.vstack((num1,num2))"
   ]
  },
  {
   "cell_type": "code",
   "execution_count": null,
   "metadata": {},
   "outputs": [],
   "source": []
  }
 ],
 "metadata": {
  "kernelspec": {
   "display_name": "Python 3",
   "language": "python",
   "name": "python3"
  },
  "language_info": {
   "codemirror_mode": {
    "name": "ipython",
    "version": 3
   },
   "file_extension": ".py",
   "mimetype": "text/x-python",
   "name": "python",
   "nbconvert_exporter": "python",
   "pygments_lexer": "ipython3",
   "version": "3.7.6"
  }
 },
 "nbformat": 4,
 "nbformat_minor": 4
}
