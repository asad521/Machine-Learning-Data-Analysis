{
 "cells": [
  {
   "cell_type": "code",
   "execution_count": 3,
   "metadata": {},
   "outputs": [],
   "source": [
    "import pandas as pd\n",
    "import numpy as np\n",
    "import seaborn as sns\n",
    "import matplotlib.pyplot as plt\n",
    "from sklearn.preprocessing import OneHotEncoder\n",
    "from sklearn.preprocessing import LabelEncoder\n",
    "from sklearn.model_selection import train_test_split\n",
    "from sklearn.linear_model import LogisticRegression\n",
    "from sklearn.datasets import load_digits"
   ]
  },
  {
   "cell_type": "code",
   "execution_count": 4,
   "metadata": {},
   "outputs": [],
   "source": [
    "digits=load_digits()"
   ]
  },
  {
   "cell_type": "code",
   "execution_count": 6,
   "metadata": {},
   "outputs": [
    {
     "data": {
      "text/plain": [
       "['DESCR', 'data', 'images', 'target', 'target_names']"
      ]
     },
     "execution_count": 6,
     "metadata": {},
     "output_type": "execute_result"
    }
   ],
   "source": [
    "dir(digits)"
   ]
  },
  {
   "cell_type": "code",
   "execution_count": 132,
   "metadata": {},
   "outputs": [
    {
     "data": {
      "text/plain": [
       "array([ 0.,  0.,  5., 13.,  9.,  1.,  0.,  0.,  0.,  0., 13., 15., 10.,\n",
       "       15.,  5.,  0.,  0.,  3., 15.,  2.,  0., 11.,  8.,  0.,  0.,  4.,\n",
       "       12.,  0.,  0.,  8.,  8.,  0.,  0.,  5.,  8.,  0.,  0.,  9.,  8.,\n",
       "        0.,  0.,  4., 11.,  0.,  1., 12.,  7.,  0.,  0.,  2., 14.,  5.,\n",
       "       10., 12.,  0.,  0.,  0.,  0.,  6., 13., 10.,  0.,  0.,  0.])"
      ]
     },
     "execution_count": 132,
     "metadata": {},
     "output_type": "execute_result"
    }
   ],
   "source": [
    "digits.data[0]"
   ]
  },
  {
   "cell_type": "code",
   "execution_count": 8,
   "metadata": {},
   "outputs": [
    {
     "data": {
      "text/plain": [
       "<matplotlib.image.AxesImage at 0xcaba120048>"
      ]
     },
     "execution_count": 8,
     "metadata": {},
     "output_type": "execute_result"
    },
    {
     "data": {
      "text/plain": [
       "<Figure size 432x288 with 0 Axes>"
      ]
     },
     "metadata": {},
     "output_type": "display_data"
    },
    {
     "data": {
      "image/png": "[encoded data removed]",
      "text/plain": [
       "<Figure size 288x288 with 1 Axes>"
      ]
     },
     "metadata": {
      "needs_background": "light"
     },
     "output_type": "display_data"
    }
   ],
   "source": [
    "plt.gray()\n",
    "plt.matshow(digits.images[0])"
   ]
  },
  {
   "cell_type": "code",
   "execution_count": 12,
   "metadata": {},
   "outputs": [
    {
     "data": {
      "image/png": "[encoded data removed]",
      "text/plain": [
       "<Figure size 288x288 with 1 Axes>"
      ]
     },
     "metadata": {
      "needs_background": "light"
     },
     "output_type": "display_data"
    },
    {
     "data": {
      "image/png": "[encoded data removed]",
      "text/plain": [
       "<Figure size 288x288 with 1 Axes>"
      ]
     },
     "metadata": {
      "needs_background": "light"
     },
     "output_type": "display_data"
    },
    {
     "data": {
      "image/png": "[encoded data removed]",
      "text/plain": [
       "<Figure size 288x288 with 1 Axes>"
      ]
     },
     "metadata": {
      "needs_background": "light"
     },
     "output_type": "display_data"
    },
    {
     "data": {
      "image/png": "[encoded data removed]",
      "text/plain": [
       "<Figure size 288x288 with 1 Axes>"
      ]
     },
     "metadata": {
      "needs_background": "light"
     },
     "output_type": "display_data"
    },
    {
     "data": {
      "image/png": "[encoded data removed]",
      "text/plain": [
       "<Figure size 288x288 with 1 Axes>"
      ]
     },
     "metadata": {
      "needs_background": "light"
     },
     "output_type": "display_data"
    }
   ],
   "source": [
    "for i in range(5):\n",
    "    plt.matshow(digits.images[i])"
   ]
  },
  {
   "cell_type": "code",
   "execution_count": 34,
   "metadata": {},
   "outputs": [
    {
     "name": "stdout",
     "output_type": "stream",
     "text": [
      "[8 9 8 0 9 4 8 8 4 5 9 7 5 2 2 8 2 7 4 4 5 7 1 6 9 6 3 5 0 4 1 3 4 8 6 7 1\n",
      " 9 3 1 3 6 4 7 1 2 3 6 7 1 0 0 2 8 2 5 9 0 5 1 9 4 6 6 6 4 3 3 7 3 3 6 2 1\n",
      " 0 2 8 7 2 2 0 0 1 5 3 7 7 1 4 8 9 8 9 0 5 6]\n"
     ]
    }
   ],
   "source": [
    "print(digits.target[1797:1700:-1])"
   ]
  },
  {
   "cell_type": "code",
   "execution_count": 113,
   "metadata": {},
   "outputs": [],
   "source": [
    "Xtrain,Xtest,ytrain,ytest=train_test_split(digits.data,digits.target, test_size=0.2, random_state=10)"
   ]
  },
  {
   "cell_type": "code",
   "execution_count": 114,
   "metadata": {},
   "outputs": [],
   "source": [
    "cls=LogisticRegression()"
   ]
  },
  {
   "cell_type": "code",
   "execution_count": 115,
   "metadata": {},
   "outputs": [
    {
     "name": "stderr",
     "output_type": "stream",
     "text": [
      "C:\\Users\\ZEESHAN123\\anaconda3\\lib\\site-packages\\sklearn\\linear_model\\_logistic.py:940: ConvergenceWarning: lbfgs failed to converge (status=1):\n",
      "STOP: TOTAL NO. of ITERATIONS REACHED LIMIT.\n",
      "\n",
      "Increase the number of iterations (max_iter) or scale the data as shown in:\n",
      "    https://scikit-learn.org/stable/modules/preprocessing.html\n",
      "Please also refer to the documentation for alternative solver options:\n",
      "    https://scikit-learn.org/stable/modules/linear_model.html#logistic-regression\n",
      "  extra_warning_msg=_LOGISTIC_SOLVER_CONVERGENCE_MSG)\n"
     ]
    },
    {
     "data": {
      "text/plain": [
       "LogisticRegression(C=1.0, class_weight=None, dual=False, fit_intercept=True,\n",
       "                   intercept_scaling=1, l1_ratio=None, max_iter=100,\n",
       "                   multi_class='auto', n_jobs=None, penalty='l2',\n",
       "                   random_state=None, solver='lbfgs', tol=0.0001, verbose=0,\n",
       "                   warm_start=False)"
      ]
     },
     "execution_count": 115,
     "metadata": {},
     "output_type": "execute_result"
    }
   ],
   "source": [
    "cls.fit(Xtrain,ytrain)"
   ]
  },
  {
   "cell_type": "code",
   "execution_count": 116,
   "metadata": {},
   "outputs": [
    {
     "data": {
      "text/plain": [
       "array([-0.00019677, -0.06938732, -0.00083419,  0.00402972,  0.03321094,\n",
       "       -0.00805319, -0.01284206,  0.01760453,  0.05769797, -0.02122962])"
      ]
     },
     "execution_count": 116,
     "metadata": {},
     "output_type": "execute_result"
    }
   ],
   "source": [
    "cls.intercept_"
   ]
  },
  {
   "cell_type": "code",
   "execution_count": 117,
   "metadata": {},
   "outputs": [
    {
     "data": {
      "text/plain": [
       "array([[ 0.00000000e+00, -8.98341021e-03, -3.11497847e-02,\n",
       "         3.35576666e-02,  5.17236716e-02, -1.47239181e-01,\n",
       "        -1.20434884e-01, -9.50198648e-03, -1.36238490e-04,\n",
       "        -3.92964510e-02,  2.21577401e-02,  1.38129855e-01,\n",
       "         3.98698707e-02,  7.62075235e-02, -6.54052273e-02,\n",
       "        -9.82697256e-03, -2.88802471e-05,  3.96811444e-02,\n",
       "         1.84098089e-01, -5.06086101e-03, -3.38863977e-01,\n",
       "         1.63051841e-01,  5.98201902e-02, -3.55184169e-03,\n",
       "         0.00000000e+00,  1.03966705e-01,  1.46940557e-01,\n",
       "        -1.86455435e-01, -4.81598140e-01, -1.04473155e-02,\n",
       "         1.59970083e-01, -2.47624409e-04,  0.00000000e+00,\n",
       "         1.42644276e-01,  1.25358008e-01, -1.96101252e-01,\n",
       "        -3.72639016e-01,  2.64477610e-02,  1.03208665e-01,\n",
       "         0.00000000e+00, -5.36976366e-04,  6.17239927e-03,\n",
       "         1.89277698e-01, -9.37223295e-02, -2.04428617e-01,\n",
       "         1.32263203e-01,  4.38597255e-02, -5.38938927e-04,\n",
       "        -1.71030117e-03, -3.17242623e-02,  7.51926487e-02,\n",
       "         1.34077649e-02,  1.49260360e-01,  9.85422670e-02,\n",
       "        -5.40578221e-02, -9.13991649e-03, -1.52340495e-05,\n",
       "        -1.47709065e-02, -5.53066695e-02,  1.18575852e-01,\n",
       "         3.17648510e-02, -2.47586418e-02, -5.06773897e-02,\n",
       "        -1.49847273e-02],\n",
       "       [ 0.00000000e+00, -3.33885226e-02, -4.30865336e-02,\n",
       "         1.14771404e-01, -6.91639261e-01,  3.52094563e-01,\n",
       "         2.30841838e-03, -1.24588254e-02, -1.06901680e-03,\n",
       "        -2.58770783e-01, -4.78841061e-01, -3.67591423e-01,\n",
       "         2.48761537e-01, -1.88421878e-02, -3.09243311e-01,\n",
       "        -1.79282845e-02, -2.59901260e-04,  3.46042361e-01,\n",
       "        -3.61219329e-02,  6.73543862e-01,  2.01571098e-01,\n",
       "        -2.84869989e-01, -2.37477277e-02, -2.23634326e-03,\n",
       "         0.00000000e+00, -8.06839455e-02,  3.05221976e-02,\n",
       "         5.09752162e-03,  3.26987339e-01,  1.63449177e-01,\n",
       "        -5.16244039e-02, -7.57889578e-05,  0.00000000e+00,\n",
       "        -7.71805185e-02,  1.72670681e-01, -2.36192271e-01,\n",
       "         1.84057368e-01,  1.68668995e-01, -1.19102988e-01,\n",
       "         0.00000000e+00, -1.72014264e-04, -1.25660823e-01,\n",
       "         9.39845821e-03,  3.03156920e-01, -7.35668664e-03,\n",
       "        -1.39957316e-01, -3.14571006e-01, -3.17770041e-02,\n",
       "        -1.40231674e-03, -8.76028444e-02, -3.49561239e-02,\n",
       "         1.32273160e-01,  1.82894458e-01, -1.27771150e-01,\n",
       "        -3.03969807e-01,  1.29054248e-01, -4.11728036e-04,\n",
       "        -5.40398246e-02, -2.52005848e-01,  9.29094007e-02,\n",
       "         3.36117306e-02,  1.53986312e-01,  1.89750209e-01,\n",
       "         2.11626762e-01],\n",
       "       [ 0.00000000e+00,  1.03479612e-02,  1.08668179e-01,\n",
       "         1.13954560e-02,  2.25351587e-02, -7.22074013e-02,\n",
       "         5.71632661e-03, -2.77674915e-03, -1.72955710e-02,\n",
       "         1.05173430e-01,  1.04509268e-01, -1.99042842e-01,\n",
       "         2.94682628e-01, -2.28530510e-02,  1.03551287e-01,\n",
       "        -2.45285156e-03, -8.37752124e-03, -3.30095054e-02,\n",
       "        -5.48508728e-02, -3.13871346e-01,  1.91595061e-01,\n",
       "         4.03329453e-02,  1.76676630e-01, -1.00916692e-03,\n",
       "         0.00000000e+00, -1.94129084e-01, -5.08487120e-01,\n",
       "        -3.62040412e-01, -1.30677562e-01, -5.64306658e-02,\n",
       "         3.37524367e-02, -5.76100761e-05,  0.00000000e+00,\n",
       "        -1.26289896e-01, -2.84521082e-01, -5.01512361e-02,\n",
       "        -9.35639640e-02, -2.89681523e-01, -2.06004344e-01,\n",
       "         0.00000000e+00, -1.58419428e-04,  6.16423911e-02,\n",
       "         9.63801744e-02,  4.33786516e-01, -2.11950652e-01,\n",
       "        -3.39604140e-01, -8.32212803e-02, -8.15744963e-05,\n",
       "         2.98350458e-03,  1.03760253e-01,  3.39989970e-02,\n",
       "         3.94432467e-01,  3.46449238e-01,  2.79659462e-01,\n",
       "         1.82728045e-01,  3.96389525e-02,  1.04266827e-03,\n",
       "         2.28787533e-02,  1.41707489e-01,  2.17505482e-02,\n",
       "         3.15336872e-02,  2.68885059e-01,  4.29943708e-01,\n",
       "         1.49527422e-01],\n",
       "       [ 0.00000000e+00,  1.19775840e-01, -7.98291823e-02,\n",
       "         7.77152570e-02,  4.88898839e-01, -1.65767313e-02,\n",
       "        -7.55737251e-02, -3.31198839e-03, -3.04788059e-03,\n",
       "         2.25068231e-01,  3.45703622e-02, -1.64074397e-02,\n",
       "         5.53291053e-02,  3.07575598e-01,  1.81039729e-01,\n",
       "        -2.70973291e-03, -4.96137822e-04, -1.08239007e-01,\n",
       "        -2.91544409e-01, -3.85276897e-01,  9.14050575e-02,\n",
       "        -3.09802494e-01,  9.63151224e-03, -1.11855760e-03,\n",
       "         0.00000000e+00, -7.92573044e-02, -3.87011578e-01,\n",
       "        -1.33623243e-01,  2.61981621e-01, -2.88170354e-01,\n",
       "        -2.98937268e-01, -5.76002706e-05,  0.00000000e+00,\n",
       "        -6.85692178e-02, -1.10590108e-01,  8.60076249e-02,\n",
       "         2.19261233e-01, -1.67947063e-01,  1.37981679e-02,\n",
       "         0.00000000e+00, -1.58366748e-04,  4.66216063e-03,\n",
       "        -3.95839583e-01, -4.35923196e-01,  8.38797917e-02,\n",
       "         2.29294758e-01,  2.72256071e-01, -6.02818324e-04,\n",
       "        -1.94155421e-04, -2.28564391e-02,  4.38814331e-02,\n",
       "        -1.83206187e-01,  5.04608513e-02,  2.21374265e-01,\n",
       "         4.69246372e-01, -4.99422251e-02, -1.67049255e-05,\n",
       "         9.58952999e-02,  1.98520544e-01,  9.72713838e-02,\n",
       "         1.37364132e-02, -1.13510492e-01,  7.03248443e-03,\n",
       "        -1.76870344e-01],\n",
       "       [ 0.00000000e+00, -1.27840117e-02, -1.46366846e-01,\n",
       "        -2.73214356e-01, -2.34489078e-01, -1.66884761e-01,\n",
       "        -2.41250574e-01,  2.50853579e-02, -1.34743843e-04,\n",
       "        -8.07913147e-03, -6.63244550e-02, -1.73787962e-01,\n",
       "        -3.81172473e-01, -3.22524677e-01, -1.91050330e-01,\n",
       "         1.44472127e-02, -2.90432945e-05, -1.15773307e-01,\n",
       "         1.25181376e-01,  2.03130334e-01,  5.73537510e-02,\n",
       "         1.06097281e-01, -4.10463772e-03,  1.69001570e-02,\n",
       "         0.00000000e+00,  5.18413902e-04,  2.88536884e-01,\n",
       "         1.13678838e-01,  9.27074499e-02,  7.27972091e-02,\n",
       "         4.11765530e-01,  2.42261861e-03,  0.00000000e+00,\n",
       "         1.96014269e-01,  1.73727679e-01, -1.19044320e-01,\n",
       "         2.91813622e-01,  2.16050166e-01,  3.19967132e-01,\n",
       "         0.00000000e+00,  2.04980328e-03,  4.40537507e-01,\n",
       "         1.06665779e-01,  4.71856647e-01,  4.85306981e-01,\n",
       "         5.96051141e-02,  8.89250802e-02, -6.21242271e-04,\n",
       "         3.64215995e-03,  1.46255759e-01, -1.98563887e-01,\n",
       "         1.08662431e-01,  1.33933440e-01, -2.07769224e-01,\n",
       "        -1.84999907e-01, -5.51515864e-03, -1.91767249e-05,\n",
       "        -4.41397577e-03, -5.93908213e-02, -3.46500037e-01,\n",
       "        -2.12142582e-01, -1.70388999e-01, -1.06606326e-01,\n",
       "        -8.34419903e-03],\n",
       "       [ 0.00000000e+00,  5.43826732e-02,  3.50601054e-01,\n",
       "        -1.31184347e-01, -2.67643720e-03,  3.55856882e-01,\n",
       "         3.86133923e-01, -3.62544422e-04, -1.95295556e-04,\n",
       "        -6.29323541e-02,  1.73302306e-01,  2.00808932e-01,\n",
       "        -2.11017281e-02, -1.17562399e-01, -9.70374567e-02,\n",
       "        -6.80794851e-03, -1.29531235e-04,  1.50335884e-02,\n",
       "         7.55885274e-02, -1.65562064e-02, -3.35069164e-01,\n",
       "        -3.45402871e-01, -4.03579012e-01, -5.50366916e-03,\n",
       "         0.00000000e+00,  4.96165573e-02,  3.10009284e-01,\n",
       "        -8.89054138e-02,  2.60003122e-01, -2.27110902e-01,\n",
       "        -1.86908242e-01, -6.45329412e-05,  0.00000000e+00,\n",
       "         7.30194527e-02,  7.28315453e-02, -1.48981421e-01,\n",
       "        -2.13952794e-01,  5.29081303e-02,  2.12983995e-01,\n",
       "         0.00000000e+00, -1.58578051e-04, -2.70218975e-01,\n",
       "        -1.78389722e-01, -2.51383866e-01, -1.04904847e-01,\n",
       "         2.16356306e-01, -7.34370701e-02, -5.80949406e-04,\n",
       "        -1.89702107e-04, -1.77381821e-01, -1.10723673e-01,\n",
       "        -1.39584014e-01, -5.74898697e-02, -8.40971387e-02,\n",
       "        -1.36062919e-01, -1.89809442e-02, -1.50247129e-05,\n",
       "         1.47149140e-02,  4.19860729e-01,  2.48617808e-01,\n",
       "         7.61874570e-02,  1.28876671e-01, -1.44506871e-01,\n",
       "        -7.77256108e-02],\n",
       "       [ 0.00000000e+00, -9.72397150e-03, -1.55934055e-01,\n",
       "        -9.77816942e-02, -1.05821848e-01, -1.85653666e-01,\n",
       "        -7.01678002e-02, -2.64432416e-03, -2.85284819e-04,\n",
       "        -1.02419963e-01, -1.32419829e-01,  4.71034607e-02,\n",
       "        -3.26636273e-01,  2.36361208e-02,  1.09763306e-02,\n",
       "        -2.34880052e-03, -1.02811014e-04, -1.20385265e-03,\n",
       "         1.83338817e-01,  1.24583028e-02, -2.06997718e-01,\n",
       "        -3.00815020e-01, -9.16816040e-02, -1.20707037e-03,\n",
       "         0.00000000e+00,  1.69997064e-01,  4.04857031e-02,\n",
       "         1.11257147e-01, -1.34911434e-01, -1.04221231e-01,\n",
       "        -1.36802447e-01, -1.63144622e-04,  0.00000000e+00,\n",
       "         1.35259630e-01,  1.20445954e-01,  1.57441400e-01,\n",
       "        -2.11087360e-02,  3.10866224e-02,  1.13057615e-01,\n",
       "         0.00000000e+00, -3.88350707e-04, -8.32515623e-02,\n",
       "         4.46441787e-01,  8.20613818e-02,  1.48336874e-01,\n",
       "         1.56718616e-01,  2.11216222e-01,  3.69653781e-02,\n",
       "        -1.02409711e-03, -8.60856976e-02,  1.32549198e-01,\n",
       "         8.51325625e-02, -6.93175629e-02,  2.21522465e-01,\n",
       "         2.76335556e-02, -1.37556330e-01, -1.47853947e-05,\n",
       "        -1.13714692e-02, -1.73296026e-01, -9.55397090e-02,\n",
       "         7.77303247e-02,  9.50297989e-02, -6.87890187e-02,\n",
       "        -8.65880318e-02],\n",
       "       [ 0.00000000e+00,  5.17507031e-02,  1.18013163e-01,\n",
       "         1.62762072e-01,  1.98024072e-01,  4.89277939e-02,\n",
       "         1.76734954e-01,  9.04394635e-02, -1.31156397e-04,\n",
       "         2.93691557e-02,  1.35457241e-01,  2.04034431e-01,\n",
       "         4.78797850e-01, -1.24760127e-01,  1.37468989e-02,\n",
       "         6.34561061e-02, -2.88891389e-05, -2.42266649e-01,\n",
       "        -3.32521530e-01, -2.05229162e-01,  3.82315435e-02,\n",
       "         1.45739865e-01,  1.76584581e-01,  1.00135221e-02,\n",
       "         0.00000000e+00, -1.35501170e-01,  5.12162343e-02,\n",
       "        -2.56755570e-01, -2.46287482e-02,  1.83243758e-01,\n",
       "         7.15489101e-02, -1.25032069e-03,  0.00000000e+00,\n",
       "         1.30500513e-01, -2.11449032e-02, -3.81819793e-02,\n",
       "         1.06068732e-01,  2.44576131e-01,  1.72777710e-01,\n",
       "         0.00000000e+00, -1.58370713e-04,  1.39093819e-04,\n",
       "         6.93857971e-03,  1.61632122e-01,  8.46805853e-02,\n",
       "        -4.05137054e-02, -3.18324238e-02, -5.32744633e-04,\n",
       "        -2.22240294e-04, -2.92671887e-02, -4.34798563e-02,\n",
       "         9.32118033e-02, -2.00198043e-01, -4.15680576e-01,\n",
       "        -1.34070139e-01, -3.94455136e-03, -2.51924521e-05,\n",
       "         2.96299891e-02,  2.23474793e-02, -2.75516711e-01,\n",
       "        -2.46694996e-01, -2.90033681e-01, -1.01084745e-01,\n",
       "        -9.76129786e-03],\n",
       "       [ 0.00000000e+00, -7.83737250e-02,  1.02191674e-01,\n",
       "        -3.16623875e-01,  1.74340771e-01, -1.51295329e-01,\n",
       "        -1.58408107e-01, -8.50593572e-03,  2.24801541e-02,\n",
       "         6.46467015e-03,  3.64473563e-02,  9.15831441e-02,\n",
       "        -2.73924309e-01,  1.72688488e-01,  1.96369797e-01,\n",
       "        -5.75011800e-03,  9.48330273e-03,  4.98633383e-02,\n",
       "         1.84029862e-01, -8.41556974e-02,  1.55961723e-01,\n",
       "         2.43522704e-01, -1.03607448e-02, -1.56322233e-03,\n",
       "         0.00000000e+00,  6.94181543e-02, -1.57926219e-01,\n",
       "         4.17279065e-01, -2.23103722e-01,  8.16688949e-02,\n",
       "        -1.96771256e-02, -1.64293825e-04,  0.00000000e+00,\n",
       "        -2.64007363e-02, -1.08959599e-01,  3.29600911e-01,\n",
       "         8.35120374e-02, -2.48415471e-01, -4.17563036e-01,\n",
       "         0.00000000e+00, -1.60330934e-04,  5.48156011e-03,\n",
       "         2.22484088e-01,  1.24538603e-01,  1.63209622e-01,\n",
       "        -4.96240641e-02,  6.65864779e-02, -1.69293908e-03,\n",
       "        -1.69292888e-03,  5.57850262e-02,  1.10735258e-01,\n",
       "        -3.03665351e-01, -3.48525376e-01,  1.47918429e-01,\n",
       "         2.28942119e-01,  1.25012767e-02, -5.09559432e-04,\n",
       "        -8.44857725e-03, -2.63392263e-01,  1.06756960e-01,\n",
       "         1.90520956e-01, -7.02675082e-02, -9.96074003e-02,\n",
       "        -2.05715564e-02],\n",
       "       [ 0.00000000e+00, -9.30035368e-02, -2.23107668e-01,\n",
       "         4.18602417e-01,  9.91041112e-02, -1.70221695e-02,\n",
       "         9.49414691e-02, -7.59624677e-02, -1.84966538e-04,\n",
       "         1.05423196e-01,  1.71141071e-01,  7.51698428e-02,\n",
       "        -1.14606209e-01,  2.64347122e-02,  1.57052283e-01,\n",
       "        -3.00786103e-02, -3.05874740e-05,  4.98718893e-02,\n",
       "        -3.71979268e-02,  1.21017670e-01,  1.44812626e-01,\n",
       "         5.42145739e-01,  1.10760813e-01, -1.07238078e-02,\n",
       "         0.00000000e+00,  9.60546096e-02,  1.85714057e-01,\n",
       "         3.80467503e-01,  5.32400754e-02,  1.85221429e-01,\n",
       "         1.69125266e-02, -3.41702818e-04,  0.00000000e+00,\n",
       "        -3.78997773e-01, -1.39818175e-01,  2.15602543e-01,\n",
       "        -1.83448483e-01, -3.36937484e-02, -1.93122916e-01,\n",
       "         0.00000000e+00, -1.58396071e-04, -3.95037522e-02,\n",
       "        -5.03357259e-01, -7.96002800e-01, -4.36773052e-01,\n",
       "        -2.24538771e-01, -1.79781797e-01, -5.37166920e-04,\n",
       "        -1.89922809e-04,  1.29117216e-01, -8.63399429e-03,\n",
       "        -2.00664636e-01, -1.87467495e-01, -1.33698799e-01,\n",
       "        -9.53894976e-02,  4.38846490e-02, -1.52625397e-05,\n",
       "        -7.00742030e-02,  2.09553866e-02,  3.16745048e-02,\n",
       "         3.75215783e-03,  2.21814809e-02, -5.54546510e-02,\n",
       "         3.36915825e-02]])"
      ]
     },
     "execution_count": 117,
     "metadata": {},
     "output_type": "execute_result"
    }
   ],
   "source": [
    "cls.coef_"
   ]
  },
  {
   "cell_type": "code",
   "execution_count": 118,
   "metadata": {},
   "outputs": [
    {
     "data": {
      "text/plain": [
       "10"
      ]
     },
     "execution_count": 118,
     "metadata": {},
     "output_type": "execute_result"
    }
   ],
   "source": [
    "len(cls.coef_)"
   ]
  },
  {
   "cell_type": "code",
   "execution_count": 119,
   "metadata": {},
   "outputs": [
    {
     "data": {
      "text/plain": [
       "10"
      ]
     },
     "execution_count": 119,
     "metadata": {},
     "output_type": "execute_result"
    }
   ],
   "source": [
    "len(cls.intercept_)"
   ]
  },
  {
   "cell_type": "code",
   "execution_count": 120,
   "metadata": {},
   "outputs": [
    {
     "data": {
      "text/plain": [
       "array([ 0.,  0.,  7.,  8., 13., 16., 15.,  1.,  0.,  0.,  7.,  7.,  4.,\n",
       "       11., 12.,  0.,  0.,  0.,  0.,  0.,  8., 13.,  1.,  0.,  0.,  4.,\n",
       "        8.,  8., 15., 15.,  6.,  0.,  0.,  2., 11., 15., 15.,  4.,  0.,\n",
       "        0.,  0.,  0.,  0., 16.,  5.,  0.,  0.,  0.,  0.,  0.,  9., 15.,\n",
       "        1.,  0.,  0.,  0.,  0.,  0., 13.,  5.,  0.,  0.,  0.,  0.])"
      ]
     },
     "execution_count": 120,
     "metadata": {},
     "output_type": "execute_result"
    }
   ],
   "source": [
    "digits.data[7]"
   ]
  },
  {
   "cell_type": "code",
   "execution_count": 121,
   "metadata": {},
   "outputs": [
    {
     "data": {
      "text/plain": [
       "<matplotlib.image.AxesImage at 0xcabe070948>"
      ]
     },
     "execution_count": 121,
     "metadata": {},
     "output_type": "execute_result"
    },
    {
     "data": {
      "text/plain": [
       "<Figure size 432x288 with 0 Axes>"
      ]
     },
     "metadata": {},
     "output_type": "display_data"
    },
    {
     "data": {
      "image/png": "[encoded data removed]",
      "text/plain": [
       "<Figure size 288x288 with 1 Axes>"
      ]
     },
     "metadata": {
      "needs_background": "light"
     },
     "output_type": "display_data"
    }
   ],
   "source": [
    "plt.gray()\n",
    "plt.matshow(digits.images[7])"
   ]
  },
  {
   "cell_type": "code",
   "execution_count": 140,
   "metadata": {},
   "outputs": [
    {
     "data": {
      "text/plain": [
       "array([7])"
      ]
     },
     "execution_count": 140,
     "metadata": {},
     "output_type": "execute_result"
    }
   ],
   "source": [
    "cls.predict([digits.data[7]])\n"
   ]
  },
  {
   "cell_type": "code",
   "execution_count": 142,
   "metadata": {},
   "outputs": [
    {
     "data": {
      "text/plain": [
       "array([5])"
      ]
     },
     "execution_count": 142,
     "metadata": {},
     "output_type": "execute_result"
    }
   ],
   "source": [
    "y_predicted=cls.predict([Xtest[0]])\n",
    "y_predicted"
   ]
  },
  {
   "cell_type": "code",
   "execution_count": 143,
   "metadata": {},
   "outputs": [
    {
     "data": {
      "text/plain": [
       "array([[ 0.,  0.,  8., ...,  0.,  0.,  0.],\n",
       "       [ 0.,  1., 13., ..., 16., 16.,  0.],\n",
       "       [ 0.,  1., 13., ...,  1.,  0.,  0.],\n",
       "       ...,\n",
       "       [ 0.,  0.,  0., ..., 15.,  5.,  0.],\n",
       "       [ 0.,  0.,  0., ..., 12.,  1.,  0.],\n",
       "       [ 0.,  1., 12., ...,  6.,  0.,  0.]])"
      ]
     },
     "execution_count": 143,
     "metadata": {},
     "output_type": "execute_result"
    }
   ],
   "source": [
    "Xtest"
   ]
  },
  {
   "cell_type": "code",
   "execution_count": 123,
   "metadata": {},
   "outputs": [
    {
     "data": {
      "text/plain": [
       "array([[37,  0,  0,  0,  0,  0,  0,  0,  0,  0],\n",
       "       [ 0, 31,  1,  0,  1,  0,  0,  0,  1,  0],\n",
       "       [ 0,  0, 34,  0,  0,  0,  0,  0,  0,  0],\n",
       "       [ 0,  0,  1, 38,  0,  1,  0,  0,  0,  0],\n",
       "       [ 1,  1,  0,  0, 31,  0,  0,  0,  1,  0],\n",
       "       [ 0,  1,  0,  0,  0, 30,  0,  1,  0,  0],\n",
       "       [ 0,  1,  0,  0,  0,  0, 36,  0,  0,  0],\n",
       "       [ 0,  0,  0,  0,  1,  0,  0, 38,  0,  1],\n",
       "       [ 0,  0,  1,  0,  0,  0,  1,  0, 31,  0],\n",
       "       [ 0,  0,  0,  0,  0,  1,  0,  0,  2, 36]], dtype=int64)"
      ]
     },
     "execution_count": 123,
     "metadata": {},
     "output_type": "execute_result"
    }
   ],
   "source": [
    "y_predicted=cls.predict(Xtest)\n",
    "from sklearn.metrics import confusion_matrix\n",
    "cm=confusion_matrix(ytest,y_predicted)\n",
    "cm"
   ]
  },
  {
   "cell_type": "code",
   "execution_count": 128,
   "metadata": {},
   "outputs": [
    {
     "data": {
      "text/plain": [
       "Text(0.5, 69.0, 'predicted')"
      ]
     },
     "execution_count": 128,
     "metadata": {},
     "output_type": "execute_result"
    },
    {
     "data": {
      "image/png": "[encoded data removed]",
      "text/plain": [
       "<Figure size 720x720 with 2 Axes>"
      ]
     },
     "metadata": {
      "needs_background": "light"
     },
     "output_type": "display_data"
    }
   ],
   "source": [
    "plt.figure(figsize=(10,10))\n",
    "sns.heatmap(cm, annot=True)\n",
    "plt.ylabel(\"True\")\n",
    "plt.xlabel(\"predicted\")"
   ]
  },
  {
   "cell_type": "code",
   "execution_count": 144,
   "metadata": {},
   "outputs": [
    {
     "data": {
      "text/plain": [
       "0.95"
      ]
     },
     "execution_count": 144,
     "metadata": {},
     "output_type": "execute_result"
    }
   ],
   "source": [
    "cls.score(Xtest,ytest)"
   ]
  },
  {
   "cell_type": "code",
   "execution_count": null,
   "metadata": {},
   "outputs": [],
   "source": []
  }
 ],
 "metadata": {
  "kernelspec": {
   "display_name": "Python 3",
   "language": "python",
   "name": "python3"
  },
  "language_info": {
   "codemirror_mode": {
    "name": "ipython",
    "version": 3
   },
   "file_extension": ".py",
   "mimetype": "text/x-python",
   "name": "python",
   "nbconvert_exporter": "python",
   "pygments_lexer": "ipython3",
   "version": "3.7.6"
  }
 },
 "nbformat": 4,
 "nbformat_minor": 4
}
