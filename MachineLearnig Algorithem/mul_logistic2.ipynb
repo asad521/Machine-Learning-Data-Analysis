{
 "cells": [
  {
   "cell_type": "code",
   "execution_count": 3,
   "metadata": {},
   "outputs": [],
   "source": [
    "import pandas as pd\n",
    "import numpy as np\n",
    "import seaborn as sns\n",
    "import matplotlib.pyplot as plt\n",
    "from sklearn.preprocessing import OneHotEncoder\n",
    "from sklearn.preprocessing import LabelEncoder\n",
    "from sklearn.model_selection import train_test_split\n",
    "from sklearn.linear_model import LogisticRegression\n",
    "from sklearn.datasets import load_digits"
   ]
  },
  {
   "cell_type": "code",
   "execution_count": 4,
   "metadata": {},
   "outputs": [],
   "source": [
    "digits=load_digits()"
   ]
  },
  {
   "cell_type": "code",
   "execution_count": 6,
   "metadata": {},
   "outputs": [
    {
     "data": {
      "text/plain": [
       "['DESCR', 'data', 'images', 'target', 'target_names']"
      ]
     },
     "execution_count": 6,
     "metadata": {},
     "output_type": "execute_result"
    }
   ],
   "source": [
    "dir(digits)"
   ]
  },
  {
   "cell_type": "code",
   "execution_count": 132,
   "metadata": {},
   "outputs": [
    {
     "data": {
      "text/plain": [
       "array([ 0.,  0.,  5., 13.,  9.,  1.,  0.,  0.,  0.,  0., 13., 15., 10.,\n",
       "       15.,  5.,  0.,  0.,  3., 15.,  2.,  0., 11.,  8.,  0.,  0.,  4.,\n",
       "       12.,  0.,  0.,  8.,  8.,  0.,  0.,  5.,  8.,  0.,  0.,  9.,  8.,\n",
       "        0.,  0.,  4., 11.,  0.,  1., 12.,  7.,  0.,  0.,  2., 14.,  5.,\n",
       "       10., 12.,  0.,  0.,  0.,  0.,  6., 13., 10.,  0.,  0.,  0.])"
      ]
     },
     "execution_count": 132,
     "metadata": {},
     "output_type": "execute_result"
    }
   ],
   "source": [
    "digits.data[0]"
   ]
  },
  {
   "cell_type": "code",
   "execution_count": 8,
   "metadata": {},
   "outputs": [
    {
     "data": {
      "text/plain": [
       "<matplotlib.image.AxesImage at 0xcaba120048>"
      ]
     },
     "execution_count": 8,
     "metadata": {},
     "output_type": "execute_result"
    },
    {
     "data": {
      "text/plain": [
       "<Figure size 432x288 with 0 Axes>"
      ]
     },
     "metadata": {},
     "output_type": "display_data"
    },
    {
     "data": {
      "image/png": "[encoded data removed]",
      "text/plain": [
       "<Figure size 288x288 with 1 Axes>"
      ]
     },
     "metadata": {
      "needs_background": "light"
     },
     "output_type": "display_data"
    }
   ],
   "source": [
    "plt.gray()\n",
    "plt.matshow(digits.images[0])"
   ]
  },
  {
   "cell_type": "code",
   "execution_count": 12,
   "metadata": {},
   "outputs": [
    {
     "data": {
      "image/png": "[encoded data removed]",
      "text/plain": [
       "<Figure size 288x288 with 1 Axes>"
      ]
     },
     "metadata": {
      "needs_background": "light"
     },
     "output_type": "display_data"
    },
    {
     "data": {
      "image/png": "[encoded data removed]",
      "text/plain": [
       "<Figure size 288x288 with 1 Axes>"
      ]
     },
     "metadata": {
      "needs_background": "light"
     },
     "output_type": "display_data"
    },
    {
     "data": {
      "image/png": "[encoded data removed]",
      "text/plain": [
       "<Figure size 288x288 with 1 Axes>"
      ]
     },
     "metadata": {
      "needs_background": "light"
     },
     "output_type": "display_data"
    },
    {
     "data": {
      "image/png": "[encoded data removed]",
      "text/plain": [
       "<Figure size 288x288 with 1 Axes>"
      ]
     },
     "metadata": {
      "needs_background": "light"
     },
     "output_type": "display_data"
    },
    {
     "data": {
      "image/png": "[encoded data removed]",
      "text/plain": [
       "<Figure size 288x288 with 1 Axes>"
      ]
     },
     "metadata": {
      "needs_background": "light"
     },
     "output_type": "display_data"
    }
   ],
   "source": [
    "for i in range(5):\n",
    "    plt.matshow(digits.images[i])"
   ]
  },
  {
   "cell_type": "code",
   "execution_count": 34,
   "metadata": {},
   "outputs": [
    {
     "name": "stdout",
     "output_type": "stream",
     "text": [
      "[8 9 8 0 9 4 8 8 4 5 9 7 5 2 2 8 2 7 4 4 5 7 1 6 9 6 3 5 0 4 1 3 4 8 6 7 1\n",
      " 9 3 1 3 6 4 7 1 2 3 6 7 1 0 0 2 8 2 5 9 0 5 1 9 4 6 6 6 4 3 3 7 3 3 6 2 1\n",
      " 0 2 8 7 2 2 0 0 1 5 3 7 7 1 4 8 9 8 9 0 5 6]\n"
     ]
    }
   ],
   "source": [
    "print(digits.target[1797:1700:-1])"
   ]
  },
  {
   "cell_type": "code",
   "execution_count": 113,
   "metadata": {},
   "outputs": [],
   "source": [
    "Xtrain,Xtest,ytrain,ytest=train_test_split(digits.data,digits.target, test_size=0.2, random_state=10)"
   ]
  },
  {
   "cell_type": "code",
   "execution_count": 204,
   "metadata": {},
   "outputs": [],
   "source": [
    "cls=LogisticRegression()\n",
    "y=ytrain[0:4]\n",
    "X=Xtrain[0:4]"
   ]
  },
  {
   "cell_type": "code",
   "execution_count": 205,
   "metadata": {},
   "outputs": [
    {
     "data": {
      "text/plain": [
       "LogisticRegression(C=1.0, class_weight=None, dual=False, fit_intercept=True,\n",
       "                   intercept_scaling=1, l1_ratio=None, max_iter=100,\n",
       "                   multi_class='auto', n_jobs=None, penalty='l2',\n",
       "                   random_state=None, solver='lbfgs', tol=0.0001, verbose=0,\n",
       "                   warm_start=False)"
      ]
     },
     "execution_count": 205,
     "metadata": {},
     "output_type": "execute_result"
    }
   ],
   "source": [
    "cls.fit(X,y)"
   ]
  },
  {
   "cell_type": "code",
   "execution_count": 206,
   "metadata": {},
   "outputs": [
    {
     "data": {
      "text/plain": [
       "array([-2.92963703,  0.47375644,  1.80870352,  0.64717707])"
      ]
     },
     "execution_count": 206,
     "metadata": {},
     "output_type": "execute_result"
    }
   ],
   "source": [
    "cls.intercept_"
   ]
  },
  {
   "cell_type": "code",
   "execution_count": 207,
   "metadata": {},
   "outputs": [
    {
     "data": {
      "text/plain": [
       "array([[ 0.        ,  0.        , -0.00219492,  0.00255612, -0.01929795,\n",
       "        -0.0296918 ,  0.        ,  0.        ,  0.        , -0.02759937,\n",
       "        -0.01532176,  0.03165135,  0.03642916, -0.03729906, -0.00202417,\n",
       "         0.        ,  0.        , -0.02838397, -0.0052536 ,  0.05072363,\n",
       "         0.02996522, -0.01294023, -0.00067472,  0.        ,  0.        ,\n",
       "        -0.01501557,  0.01174678,  0.04758557,  0.03769191,  0.00678467,\n",
       "        -0.00269889,  0.        ,  0.        , -0.02105613,  0.00618558,\n",
       "         0.04717662,  0.0447916 , -0.00233308, -0.00269889,  0.        ,\n",
       "         0.        , -0.00985334,  0.0473379 ,  0.0178915 ,  0.06237421,\n",
       "        -0.01533782, -0.01499238,  0.        ,  0.        , -0.00806473,\n",
       "         0.02161965,  0.00470352,  0.04269316, -0.04311761, -0.02307289,\n",
       "         0.        ,  0.        ,  0.        ,  0.00885657, -0.01015953,\n",
       "         0.03446715,  0.01648794, -0.00134945,  0.        ],\n",
       "       [ 0.        ,  0.        ,  0.00553392,  0.02024783,  0.01640448,\n",
       "         0.00058088,  0.        ,  0.        ,  0.        ,  0.03164542,\n",
       "         0.00916015,  0.0100676 , -0.00475035,  0.0154057 , -0.00757725,\n",
       "         0.        ,  0.        ,  0.00971516, -0.00486329, -0.04620639,\n",
       "        -0.02479948,  0.01703861, -0.00252575,  0.        ,  0.        ,\n",
       "        -0.01407487, -0.06461428, -0.04952652,  0.00739922, -0.00611379,\n",
       "        -0.010103  ,  0.        ,  0.        , -0.01140649, -0.07173009,\n",
       "        -0.04463901,  0.03297191, -0.03928122, -0.010103  ,  0.        ,\n",
       "         0.        , -0.00317749, -0.02934524,  0.03654025,  0.0112392 ,\n",
       "        -0.01628543,  0.01242771,  0.        ,  0.        , -0.00490887,\n",
       "        -0.03492372,  0.01773619,  0.0313798 ,  0.05795408,  0.03701923,\n",
       "         0.        ,  0.        ,  0.        , -0.00263679,  0.02005753,\n",
       "         0.01117716, -0.0193395 , -0.0050515 ,  0.        ],\n",
       "       [ 0.        ,  0.        , -0.00088604, -0.00721306,  0.01280474,\n",
       "         0.04065597,  0.        ,  0.        ,  0.        ,  0.00181083,\n",
       "         0.00821436, -0.02356362, -0.01554703,  0.01673543, -0.00328015,\n",
       "         0.        ,  0.        ,  0.00350255,  0.02777433,  0.02243288,\n",
       "         0.02161028, -0.02155063, -0.00109338,  0.        ,  0.        ,\n",
       "         0.01737314,  0.0311224 ,  0.02568883, -0.03879839, -0.04204102,\n",
       "        -0.00437353,  0.        ,  0.        ,  0.03260791,  0.02480315,\n",
       "        -0.03391028, -0.06093216, -0.0231593 , -0.00437353,  0.        ,\n",
       "         0.        ,  0.01739734,  0.00268975,  0.00956354, -0.04291784,\n",
       "        -0.01678784, -0.01085007,  0.        ,  0.        ,  0.01195462,\n",
       "        -0.014515  ,  0.00756381, -0.03633515, -0.02684788, -0.01318851,\n",
       "         0.        ,  0.        ,  0.        ,  0.00060741,  0.00823855,\n",
       "        -0.06098055, -0.04272872, -0.00218677,  0.        ],\n",
       "       [ 0.        ,  0.        , -0.00245297, -0.01559089, -0.00991126,\n",
       "        -0.01154506,  0.        ,  0.        ,  0.        , -0.00585688,\n",
       "        -0.00205276, -0.01815533, -0.01613178,  0.00515793,  0.01288157,\n",
       "         0.        ,  0.        ,  0.01516627, -0.01765744, -0.02695012,\n",
       "        -0.02677602,  0.01745225,  0.00429386,  0.        ,  0.        ,\n",
       "         0.01171729,  0.0217451 , -0.02374789, -0.00629274,  0.04137013,\n",
       "         0.01717543,  0.        ,  0.        , -0.0001453 ,  0.04074136,\n",
       "         0.03137267, -0.01683135,  0.0647736 ,  0.01717543,  0.        ,\n",
       "         0.        , -0.00436651, -0.02068241, -0.0639953 , -0.03069557,\n",
       "         0.0484111 ,  0.01341474,  0.        ,  0.        ,  0.00101898,\n",
       "         0.02781908, -0.03000352, -0.03773781,  0.01201141, -0.00075783,\n",
       "         0.        ,  0.        ,  0.        , -0.00682719, -0.01813656,\n",
       "         0.01533624,  0.04558028,  0.00858771,  0.        ]])"
      ]
     },
     "execution_count": 207,
     "metadata": {},
     "output_type": "execute_result"
    }
   ],
   "source": [
    "cls.coef_"
   ]
  },
  {
   "cell_type": "code",
   "execution_count": 208,
   "metadata": {},
   "outputs": [
    {
     "data": {
      "text/plain": [
       "array([-2.92963703,  0.47375644,  1.80870352,  0.64717707])"
      ]
     },
     "execution_count": 208,
     "metadata": {},
     "output_type": "execute_result"
    }
   ],
   "source": [
    "cls.intercept_"
   ]
  },
  {
   "cell_type": "code",
   "execution_count": 209,
   "metadata": {},
   "outputs": [
    {
     "data": {
      "text/plain": [
       "1"
      ]
     },
     "execution_count": 209,
     "metadata": {},
     "output_type": "execute_result"
    }
   ],
   "source": [
    "cls.intercept_.ndim"
   ]
  },
  {
   "cell_type": "code",
   "execution_count": 210,
   "metadata": {},
   "outputs": [
    {
     "data": {
      "text/plain": [
       "array([8])"
      ]
     },
     "execution_count": 210,
     "metadata": {},
     "output_type": "execute_result"
    }
   ],
   "source": [
    "y_predicted=cls.predict([Xtest[0]])\n",
    "y_predicted"
   ]
  },
  {
   "cell_type": "code",
   "execution_count": 211,
   "metadata": {},
   "outputs": [
    {
     "data": {
      "text/plain": [
       "array([[ 0.,  0.,  8., ...,  0.,  0.,  0.],\n",
       "       [ 0.,  1., 13., ..., 16., 16.,  0.],\n",
       "       [ 0.,  1., 13., ...,  1.,  0.,  0.],\n",
       "       ...,\n",
       "       [ 0.,  0.,  0., ..., 15.,  5.,  0.],\n",
       "       [ 0.,  0.,  0., ..., 12.,  1.,  0.],\n",
       "       [ 0.,  1., 12., ...,  6.,  0.,  0.]])"
      ]
     },
     "execution_count": 211,
     "metadata": {},
     "output_type": "execute_result"
    }
   ],
   "source": [
    "Xtest"
   ]
  },
  {
   "cell_type": "code",
   "execution_count": 212,
   "metadata": {},
   "outputs": [
    {
     "data": {
      "text/plain": [
       "array([[ 0,  1,  0,  0,  0,  0,  0,  0,  3, 33],\n",
       "       [ 0, 31,  0,  0,  0,  0,  0,  0,  1,  2],\n",
       "       [ 0,  7, 27,  0,  0,  0,  0,  0,  0,  0],\n",
       "       [ 0,  0, 28,  0,  0,  0,  0,  0,  0, 12],\n",
       "       [ 0, 28,  0,  0,  0,  0,  0,  0,  1,  5],\n",
       "       [ 0,  6,  4,  0,  0,  0,  0,  0, 10, 12],\n",
       "       [ 0, 17,  0,  0,  0,  0,  0,  0,  0, 20],\n",
       "       [ 0, 12, 12,  0,  0,  0,  0,  0,  8,  8],\n",
       "       [ 0, 20,  2,  0,  0,  0,  0,  0,  2,  9],\n",
       "       [ 0,  1,  3,  0,  0,  0,  0,  0,  2, 33]], dtype=int64)"
      ]
     },
     "execution_count": 212,
     "metadata": {},
     "output_type": "execute_result"
    }
   ],
   "source": [
    "y_predicted=cls.predict(Xtest)\n",
    "from sklearn.metrics import confusion_matrix\n",
    "cm=confusion_matrix(ytest,y_predicted)\n",
    "cm"
   ]
  },
  {
   "cell_type": "code",
   "execution_count": 213,
   "metadata": {},
   "outputs": [
    {
     "data": {
      "text/plain": [
       "Text(0.5, 69.0, 'predicted')"
      ]
     },
     "execution_count": 213,
     "metadata": {},
     "output_type": "execute_result"
    },
    {
     "data": {
      "image/png": "[encoded data removed]",
      "text/plain": [
       "<Figure size 720x720 with 2 Axes>"
      ]
     },
     "metadata": {
      "needs_background": "light"
     },
     "output_type": "display_data"
    }
   ],
   "source": [
    "plt.figure(figsize=(10,10))\n",
    "sns.heatmap(cm, annot=True)\n",
    "plt.ylabel(\"True\")\n",
    "plt.xlabel(\"predicted\")"
   ]
  },
  {
   "cell_type": "code",
   "execution_count": 214,
   "metadata": {},
   "outputs": [
    {
     "data": {
      "text/plain": [
       "0.25833333333333336"
      ]
     },
     "execution_count": 214,
     "metadata": {},
     "output_type": "execute_result"
    }
   ],
   "source": [
    "cls.score(Xtest,ytest)"
   ]
  },
  {
   "cell_type": "code",
   "execution_count": null,
   "metadata": {},
   "outputs": [],
   "source": []
  }
 ],
 "metadata": {
  "kernelspec": {
   "display_name": "Python 3",
   "language": "python",
   "name": "python3"
  },
  "language_info": {
   "codemirror_mode": {
    "name": "ipython",
    "version": 3
   },
   "file_extension": ".py",
   "mimetype": "text/x-python",
   "name": "python",
   "nbconvert_exporter": "python",
   "pygments_lexer": "ipython3",
   "version": "3.7.6"
  }
 },
 "nbformat": 4,
 "nbformat_minor": 4
}
