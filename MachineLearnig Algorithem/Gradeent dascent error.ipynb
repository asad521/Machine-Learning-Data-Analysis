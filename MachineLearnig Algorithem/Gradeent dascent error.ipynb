{
 "cells": [
  {
   "cell_type": "code",
   "execution_count": 278,
   "metadata": {},
   "outputs": [],
   "source": [
    "import pandas as pd\n",
    "import numpy as np\n",
    "from sklearn.linear_model import LinearRegression"
   ]
  },
  {
   "cell_type": "code",
   "execution_count": 279,
   "metadata": {},
   "outputs": [],
   "source": [
    "df=pd.read_excel(\"Book1.xlsx\",Sheet=\"Book1\")"
   ]
  },
  {
   "cell_type": "code",
   "execution_count": 280,
   "metadata": {},
   "outputs": [
    {
     "data": {
      "text/html": [
       "<div>\n",
       "<style scoped>\n",
       "    .dataframe tbody tr th:only-of-type {\n",
       "        vertical-align: middle;\n",
       "    }\n",
       "\n",
       "    .dataframe tbody tr th {\n",
       "        vertical-align: top;\n",
       "    }\n",
       "\n",
       "    .dataframe thead th {\n",
       "        text-align: right;\n",
       "    }\n",
       "</style>\n",
       "<table border=\"1\" class=\"dataframe\">\n",
       "  <thead>\n",
       "    <tr style=\"text-align: right;\">\n",
       "      <th></th>\n",
       "      <th>area</th>\n",
       "      <th>price</th>\n",
       "    </tr>\n",
       "  </thead>\n",
       "  <tbody>\n",
       "    <tr>\n",
       "      <th>0</th>\n",
       "      <td>2600</td>\n",
       "      <td>550000</td>\n",
       "    </tr>\n",
       "    <tr>\n",
       "      <th>1</th>\n",
       "      <td>3000</td>\n",
       "      <td>565000</td>\n",
       "    </tr>\n",
       "    <tr>\n",
       "      <th>2</th>\n",
       "      <td>3200</td>\n",
       "      <td>610000</td>\n",
       "    </tr>\n",
       "    <tr>\n",
       "      <th>3</th>\n",
       "      <td>3600</td>\n",
       "      <td>680000</td>\n",
       "    </tr>\n",
       "    <tr>\n",
       "      <th>4</th>\n",
       "      <td>4000</td>\n",
       "      <td>725000</td>\n",
       "    </tr>\n",
       "  </tbody>\n",
       "</table>\n",
       "</div>"
      ],
      "text/plain": [
       "   area   price\n",
       "0  2600  550000\n",
       "1  3000  565000\n",
       "2  3200  610000\n",
       "3  3600  680000\n",
       "4  4000  725000"
      ]
     },
     "execution_count": 280,
     "metadata": {},
     "output_type": "execute_result"
    }
   ],
   "source": [
    "df"
   ]
  },
  {
   "cell_type": "code",
   "execution_count": 291,
   "metadata": {},
   "outputs": [],
   "source": [
    "%matplotlib inline\n",
    "\n",
    "def grd(x,y):\n",
    "    m_cur=0\n",
    "    b_cur=0\n",
    "    iteration=100\n",
    "    ss=0.00001 # step size, iteration step, learning rate3\n",
    "    n=len(x)\n",
    "    for i in range(iteration):\n",
    "                \n",
    "        y_predicted=x*m_cur+b_cur\n",
    "        cost = (1/n) * sum([val**2 for val in (y-y_predicted)])\n",
    "        dm= -(2/n)*sum(x*(y-y_predicted))\n",
    "        db= -(2/n)*sum(y-y_predicted)\n",
    "        m_cur=m_cur- ss*dm\n",
    "        b_cur=b_cur-ss*db\n",
    "        print(f\"Value of slope  is:{m_cur}, Value of intercept is:{b_cur}\\n Value\"\n",
    "              +f\"is cost is {cost}\")\n",
    "     \n",
    "    "
   ]
  },
  {
   "cell_type": "code",
   "execution_count": 292,
   "metadata": {},
   "outputs": [
    {
     "name": "stdout",
     "output_type": "stream",
     "text": [
      "Value of slope  is:41700.0, Value of intercept is:12.520000000000001\n",
      " Valueis cost is 396370000000.0\n",
      "Value of slope  is:-9083928.821312001, Value of intercept is:-2710.4802504000004\n",
      " Valueis cost is 1.8940389659196156e+16\n",
      "Value of slope  is:1987968861.063423, Value of intercept is:593207.8246372723\n",
      " Valueis cost is 9.070732909366731e+20\n",
      "Value of slope  is:-435047102769.5528, Value of intercept is:-129817548.80527976\n",
      " Valueis cost is 4.344060540283338e+25\n",
      "Value of slope  is:95205716527820.14, Value of intercept is:28409275001.748363\n",
      " Valueis cost is 2.0804120423586086e+30\n",
      "Value of slope  is:-2.08348208685549e+16, Value of intercept is:-6217086297396.234\n",
      " Valueis cost is 9.963291777025781e+34\n",
      "Value of slope  is:4.559492606715458e+18, Value of intercept is:1360547287021544.0\n",
      " Valueis cost is 4.771515498516735e+39\n",
      "Value of slope  is:-9.977994513055129e+20, Value of intercept is:-2.977421949244583e+17\n",
      " Valueis cost is 2.2851243004931723e+44\n",
      "Value of slope  is:2.1835845145558648e+23, Value of intercept is:6.51579077655611e+19\n",
      " Valueis cost is 1.0943678314212007e+49\n",
      "Value of slope  is:-4.77855677908993e+25, Value of intercept is:-1.425915781087907e+22\n",
      " Valueis cost is 5.241031965705622e+53\n",
      "Value of slope  is:1.0457394590761155e+28, Value of intercept is:3.120474374455272e+24\n",
      " Valueis cost is 2.509980216603798e+58\n",
      "Value of slope  is:-2.2884964369452906e+30, Value of intercept is:-6.828846731889641e+26\n",
      " Valueis cost is 1.202053475148811e+63\n",
      "Value of slope  is:5.00814605058342e+32, Value of intercept is:1.494424952481156e+29\n",
      " Valueis cost is 5.756748788532054e+67\n",
      "Value of slope  is:-1.0959827797439529e+35, Value of intercept is:-3.2703998585429027e+31\n",
      " Valueis cost is 2.7569619238580554e+72\n",
      "Value of slope  is:2.3984489297298973e+37, Value of intercept is:7.156943690614874e+33\n",
      " Valueis cost is 1.320335371372231e+77\n",
      "Value of slope  is:-5.2487661073164135e+39, Value of intercept is:-1.5662256973510716e+36\n",
      " Valueis cost is 6.323212075620966e+81\n",
      "Value of slope  is:1.1486400776695299e+42, Value of intercept is:3.4275286226711966e+38\n",
      " Valueis cost is 3.0282465970539185e+86\n",
      "Value of slope  is:-2.5136841708178768e+44, Value of intercept is:-7.50080430879113e+40\n",
      " Valueis cost is 1.4502561898761049e+91\n",
      "Value of slope  is:5.500946931470604e+46, Value of intercept is:1.6414761617638226e+43\n",
      " Valueis cost is 6.945415272059194e+95\n",
      "Value of slope  is:-1.2038273341638632e+49, Value of intercept is:-3.592206753722311e+45\n",
      " Valueis cost is 3.3262256446893082e+100\n",
      "Value of slope  is:2.6344559737329616e+51, Value of intercept is:7.861185963019072e+47\n",
      " Valueis cost is 1.5929611990081318e+105\n",
      "Value of slope  is:-5.765243968611014e+53, Value of intercept is:-1.720342090029523e+50\n",
      " Valueis cost is 7.62884317724166e+109\n",
      "Value of slope  is:1.2616661029452756e+56, Value of intercept is:3.764796966576948e+52\n",
      " Valueis cost is 3.653525789528632e+114\n",
      "Value of slope  is:-2.761030346656123e+58, Value of intercept is:-8.238882418614632e+54\n",
      " Valueis cost is 1.749708361363525e+119\n",
      "Value of slope  is:6.042239351092948e+60, Value of intercept is:1.8029971897654505e+57\n",
      " Valueis cost is 8.379520294067542e+123\n",
      "Value of slope  is:-1.3222837778697965e+63, Value of intercept is:-3.9456794030187573e+59\n",
      " Valueis cost is 4.0130322234941555e+128\n",
      "Value of slope  is:2.893686078326832e+65, Value of intercept is:8.634725577931558e+61\n",
      " Valueis cost is 1.9218794228834213e+133\n",
      "Value of slope  is:-6.332543180248437e+67, Value of intercept is:-1.889623514498982e+64\n",
      " Valueis cost is 9.204063935690675e+137\n",
      "Value of slope  is:1.385813873524871e+70, Value of intercept is:4.135252469022689e+66\n",
      " Valueis cost is 4.4079140409955045e+142\n",
      "Value of slope  is:-3.03271535209439e+72, Value of intercept is:-9.04958731268342e+68\n",
      " Valueis cost is 2.110992093119062e+147\n",
      "Value of slope  is:6.636794870176291e+74, Value of intercept is:1.980411864652983e+71\n",
      " Valueis cost is 1.0109742557966864e+152\n",
      "Value of slope  is:-1.4523963193043984e+77, Value of intercept is:-4.33393371227149e+73\n",
      " Valueis cost is 4.84165217489528e+156\n",
      "Value of slope  is:3.1784243894717975e+79, Value of intercept is:9.484381384300882e+75\n",
      " Valueis cost is 2.318713424032279e+161\n",
      "Value of slope  is:-6.955664556095501e+81, Value of intercept is:-2.075562207796826e+78\n",
      " Valueis cost is 1.110453983180603e+166\n",
      "Value of slope  is:1.5221777676128206e+84, Value of intercept is:4.542160741833122e+80\n",
      " Valueis cost is 5.318070081369833e+170\n",
      "Value of slope  is:-3.331134124609642e+86, Value of intercept is:-9.940065456553921e+82\n",
      " Valueis cost is 2.5468745052681058e+175\n",
      "Value of slope  is:7.289854570364035e+88, Value of intercept is:2.1752841190886806e+85\n",
      " Valueis cost is 1.2197225020234863e+180\n",
      "Value of slope  is:-1.5953119168771041e+91, Value of intercept is:-4.7603921920247445e+87\n",
      " Valueis cost is 5.841367444156117e+184\n",
      "Value of slope  is:3.491180911175583e+93, Value of intercept is:1.0417643204871996e+90\n",
      " Valueis cost is 2.7974866054401917e+189\n",
      "Value of slope  is:-7.64010098941404e+95, Value of intercept is:-2.2797972428791746e+92\n",
      " Valueis cost is 1.3397430280552853e+194\n",
      "Value of slope  is:1.6719598500780678e+98, Value of intercept is:4.989108732586268e+94\n",
      " Valueis cost is 6.416157195291774e+198\n",
      "Value of slope  is:-3.658917263196377e+100, Value of intercept is:-1.0918166527008011e+97\n",
      " Valueis cost is 3.07275890171646e+203\n",
      "Value of slope  is:8.007175255010677e+102, Value of intercept is:2.389331776493146e+99\n",
      " Valueis cost is 1.4715735573009716e+208\n",
      "Value of slope  is:-1.7522903895467015e+105, Value of intercept is:-5.228814127388429e+101\n",
      " Valueis cost is 7.047506178690952e+212\n",
      "Value of slope  is:3.8347126314942084e+107, Value of intercept is:1.1442737859915307e+104\n",
      " Valueis cost is 3.3751179539935826e+217\n",
      "Value of slope  is:-8.391885873405528e+109, Value of intercept is:-2.504128977255043e+106\n",
      " Valueis cost is 1.6163761924485086e+222\n",
      "Value of slope  is:1.8364804688069271e+112, Value of intercept is:5.480036344007272e+108\n",
      " Valueis cost is 7.740979815010358e+226\n",
      "Value of slope  is:-4.018954217427464e+114, Value of intercept is:-1.199251260794064e+111\n",
      " Valueis cost is 3.707229095327493e+231\n",
      "Value of slope  is:8.795080196127088e+116, Value of intercept is:2.624441693874728e+113\n",
      " Valueis cost is 1.7754273869301276e+236\n",
      "Value of slope  is:-1.924715522283827e+119, Value of intercept is:-5.743328716608961e+115\n",
      " Valueis cost is 8.502691161532013e+240\n",
      "Value of slope  is:4.212047825728291e+121, Value of intercept is:1.256870168768156e+118\n",
      " Valueis cost is 4.072019927179363e+245\n",
      "Value of slope  is:-9.217646286330627e+123, Value of intercept is:-2.7505349233641124e+120\n",
      " Valueis cost is 1.9501291970198056e+250\n",
      "Value of slope  is:2.0171898937356854e+126, Value of intercept is:6.0192711647062355e+122\n",
      " Valueis cost is 9.339354799531657e+254\n",
      "Value of slope  is:-4.4144187583153635e+128, Value of intercept is:-1.3172574195113268e+125\n",
      " Valueis cost is 4.4727061265905e+259\n",
      "Value of slope  is:9.66051487481821e+130, Value of intercept is:2.8826863947112495e+127\n",
      " Valueis cost is 2.1420216411355735e+264\n",
      "Value of slope  is:-2.1141072643094448e+133, Value of intercept is:-6.308471470470911e+129\n",
      " Valueis cost is 1.0258346024156787e+269\n",
      "Value of slope  is:4.6265127510505186e+135, Value of intercept is:1.3805460200859544e+132\n",
      " Valueis cost is 4.912819792779716e+273\n",
      "Value of slope  is:-1.0124661410037146e+138, Value of intercept is:-3.021187180597485e+134\n",
      " Valueis cost is 2.3527962752954653e+278\n",
      "Value of slope  is:2.2156811011624086e+140, Value of intercept is:6.611566617415829e+136\n",
      " Valueis cost is 1.126776585858057e+283\n",
      "Value of slope  is:-4.8487969555025865e+142, Value of intercept is:-1.446875367976457e+139\n",
      " Valueis cost is 5.396240583041978e+287\n",
      "Value of slope  is:1.0611108206572103e+145, Value of intercept is:3.166342338505006e+141\n",
      " Valueis cost is 2.584311104396473e+292\n",
      "Value of slope  is:-2.3221351276382965e+147, Value of intercept is:-6.9292241933947185e+143\n",
      " Valueis cost is 1.2376512465539494e+297\n",
      "Value of slope  is:5.081760967880755e+149, Value of intercept is:1.516391558121812e+146\n",
      " Valueis cost is 5.927229912415164e+301\n",
      "Value of slope  is:-1.1120926696863105e+152, Value of intercept is:-3.318471582626869e+148\n",
      " Valueis cost is 2.8386069607612736e+306\n"
     ]
    },
    {
     "ename": "OverflowError",
     "evalue": "(34, 'Result too large')",
     "output_type": "error",
     "traceback": [
      "\u001b[1;31m---------------------------------------------------------------------------\u001b[0m",
      "\u001b[1;31mOverflowError\u001b[0m                             Traceback (most recent call last)",
      "\u001b[1;32m<ipython-input-292-7ba5fe9b43d1>\u001b[0m in \u001b[0;36m<module>\u001b[1;34m\u001b[0m\n\u001b[0;32m      1\u001b[0m \u001b[0mx\u001b[0m\u001b[1;33m=\u001b[0m\u001b[0mdf\u001b[0m\u001b[1;33m[\u001b[0m\u001b[1;34m\"area\"\u001b[0m\u001b[1;33m]\u001b[0m\u001b[1;33m\u001b[0m\u001b[1;33m\u001b[0m\u001b[0m\n\u001b[0;32m      2\u001b[0m \u001b[0my\u001b[0m\u001b[1;33m=\u001b[0m\u001b[0mdf\u001b[0m\u001b[1;33m[\u001b[0m\u001b[1;34m\"price\"\u001b[0m\u001b[1;33m]\u001b[0m\u001b[1;33m\u001b[0m\u001b[1;33m\u001b[0m\u001b[0m\n\u001b[1;32m----> 3\u001b[1;33m \u001b[0mgrd\u001b[0m\u001b[1;33m(\u001b[0m\u001b[0mx\u001b[0m\u001b[1;33m,\u001b[0m\u001b[0my\u001b[0m\u001b[1;33m)\u001b[0m\u001b[1;33m\u001b[0m\u001b[1;33m\u001b[0m\u001b[0m\n\u001b[0m",
      "\u001b[1;32m<ipython-input-291-77de1f5e4519>\u001b[0m in \u001b[0;36mgrd\u001b[1;34m(x, y)\u001b[0m\n\u001b[0;32m     10\u001b[0m \u001b[1;33m\u001b[0m\u001b[0m\n\u001b[0;32m     11\u001b[0m         \u001b[0my_predicted\u001b[0m\u001b[1;33m=\u001b[0m\u001b[0mx\u001b[0m\u001b[1;33m*\u001b[0m\u001b[0mm_cur\u001b[0m\u001b[1;33m+\u001b[0m\u001b[0mb_cur\u001b[0m\u001b[1;33m\u001b[0m\u001b[1;33m\u001b[0m\u001b[0m\n\u001b[1;32m---> 12\u001b[1;33m         \u001b[0mcost\u001b[0m \u001b[1;33m=\u001b[0m \u001b[1;33m(\u001b[0m\u001b[1;36m1\u001b[0m\u001b[1;33m/\u001b[0m\u001b[0mn\u001b[0m\u001b[1;33m)\u001b[0m \u001b[1;33m*\u001b[0m \u001b[0msum\u001b[0m\u001b[1;33m(\u001b[0m\u001b[1;33m[\u001b[0m\u001b[0mval\u001b[0m\u001b[1;33m**\u001b[0m\u001b[1;36m2\u001b[0m \u001b[1;32mfor\u001b[0m \u001b[0mval\u001b[0m \u001b[1;32min\u001b[0m \u001b[1;33m(\u001b[0m\u001b[0my\u001b[0m\u001b[1;33m-\u001b[0m\u001b[0my_predicted\u001b[0m\u001b[1;33m)\u001b[0m\u001b[1;33m]\u001b[0m\u001b[1;33m)\u001b[0m\u001b[1;33m\u001b[0m\u001b[1;33m\u001b[0m\u001b[0m\n\u001b[0m\u001b[0;32m     13\u001b[0m         \u001b[0mdm\u001b[0m\u001b[1;33m=\u001b[0m \u001b[1;33m-\u001b[0m\u001b[1;33m(\u001b[0m\u001b[1;36m2\u001b[0m\u001b[1;33m/\u001b[0m\u001b[0mn\u001b[0m\u001b[1;33m)\u001b[0m\u001b[1;33m*\u001b[0m\u001b[0msum\u001b[0m\u001b[1;33m(\u001b[0m\u001b[0mx\u001b[0m\u001b[1;33m*\u001b[0m\u001b[1;33m(\u001b[0m\u001b[0my\u001b[0m\u001b[1;33m-\u001b[0m\u001b[0my_predicted\u001b[0m\u001b[1;33m)\u001b[0m\u001b[1;33m)\u001b[0m\u001b[1;33m\u001b[0m\u001b[1;33m\u001b[0m\u001b[0m\n\u001b[0;32m     14\u001b[0m         \u001b[0mdb\u001b[0m\u001b[1;33m=\u001b[0m \u001b[1;33m-\u001b[0m\u001b[1;33m(\u001b[0m\u001b[1;36m2\u001b[0m\u001b[1;33m/\u001b[0m\u001b[0mn\u001b[0m\u001b[1;33m)\u001b[0m\u001b[1;33m*\u001b[0m\u001b[0msum\u001b[0m\u001b[1;33m(\u001b[0m\u001b[0my\u001b[0m\u001b[1;33m-\u001b[0m\u001b[0my_predicted\u001b[0m\u001b[1;33m)\u001b[0m\u001b[1;33m\u001b[0m\u001b[1;33m\u001b[0m\u001b[0m\n",
      "\u001b[1;32m<ipython-input-291-77de1f5e4519>\u001b[0m in \u001b[0;36m<listcomp>\u001b[1;34m(.0)\u001b[0m\n\u001b[0;32m     10\u001b[0m \u001b[1;33m\u001b[0m\u001b[0m\n\u001b[0;32m     11\u001b[0m         \u001b[0my_predicted\u001b[0m\u001b[1;33m=\u001b[0m\u001b[0mx\u001b[0m\u001b[1;33m*\u001b[0m\u001b[0mm_cur\u001b[0m\u001b[1;33m+\u001b[0m\u001b[0mb_cur\u001b[0m\u001b[1;33m\u001b[0m\u001b[1;33m\u001b[0m\u001b[0m\n\u001b[1;32m---> 12\u001b[1;33m         \u001b[0mcost\u001b[0m \u001b[1;33m=\u001b[0m \u001b[1;33m(\u001b[0m\u001b[1;36m1\u001b[0m\u001b[1;33m/\u001b[0m\u001b[0mn\u001b[0m\u001b[1;33m)\u001b[0m \u001b[1;33m*\u001b[0m \u001b[0msum\u001b[0m\u001b[1;33m(\u001b[0m\u001b[1;33m[\u001b[0m\u001b[0mval\u001b[0m\u001b[1;33m**\u001b[0m\u001b[1;36m2\u001b[0m \u001b[1;32mfor\u001b[0m \u001b[0mval\u001b[0m \u001b[1;32min\u001b[0m \u001b[1;33m(\u001b[0m\u001b[0my\u001b[0m\u001b[1;33m-\u001b[0m\u001b[0my_predicted\u001b[0m\u001b[1;33m)\u001b[0m\u001b[1;33m]\u001b[0m\u001b[1;33m)\u001b[0m\u001b[1;33m\u001b[0m\u001b[1;33m\u001b[0m\u001b[0m\n\u001b[0m\u001b[0;32m     13\u001b[0m         \u001b[0mdm\u001b[0m\u001b[1;33m=\u001b[0m \u001b[1;33m-\u001b[0m\u001b[1;33m(\u001b[0m\u001b[1;36m2\u001b[0m\u001b[1;33m/\u001b[0m\u001b[0mn\u001b[0m\u001b[1;33m)\u001b[0m\u001b[1;33m*\u001b[0m\u001b[0msum\u001b[0m\u001b[1;33m(\u001b[0m\u001b[0mx\u001b[0m\u001b[1;33m*\u001b[0m\u001b[1;33m(\u001b[0m\u001b[0my\u001b[0m\u001b[1;33m-\u001b[0m\u001b[0my_predicted\u001b[0m\u001b[1;33m)\u001b[0m\u001b[1;33m)\u001b[0m\u001b[1;33m\u001b[0m\u001b[1;33m\u001b[0m\u001b[0m\n\u001b[0;32m     14\u001b[0m         \u001b[0mdb\u001b[0m\u001b[1;33m=\u001b[0m \u001b[1;33m-\u001b[0m\u001b[1;33m(\u001b[0m\u001b[1;36m2\u001b[0m\u001b[1;33m/\u001b[0m\u001b[0mn\u001b[0m\u001b[1;33m)\u001b[0m\u001b[1;33m*\u001b[0m\u001b[0msum\u001b[0m\u001b[1;33m(\u001b[0m\u001b[0my\u001b[0m\u001b[1;33m-\u001b[0m\u001b[0my_predicted\u001b[0m\u001b[1;33m)\u001b[0m\u001b[1;33m\u001b[0m\u001b[1;33m\u001b[0m\u001b[0m\n",
      "\u001b[1;31mOverflowError\u001b[0m: (34, 'Result too large')"
     ]
    }
   ],
   "source": [
    "x=df[\"area\"]\n",
    "y=df[\"price\"]\n",
    "grd(x,y)"
   ]
  },
  {
   "cell_type": "code",
   "execution_count": 283,
   "metadata": {},
   "outputs": [
    {
     "data": {
      "text/plain": [
       "LinearRegression(copy_X=True, fit_intercept=True, n_jobs=None, normalize=False)"
      ]
     },
     "execution_count": 283,
     "metadata": {},
     "output_type": "execute_result"
    }
   ],
   "source": [
    "reg=LinearRegression()\n",
    "reg.fit(df[[\"area\"]],df.price)"
   ]
  },
  {
   "cell_type": "code",
   "execution_count": 284,
   "metadata": {},
   "outputs": [
    {
     "data": {
      "text/plain": [
       "array([135.78767123])"
      ]
     },
     "execution_count": 284,
     "metadata": {},
     "output_type": "execute_result"
    }
   ],
   "source": [
    "reg.coef_"
   ]
  },
  {
   "cell_type": "code",
   "execution_count": null,
   "metadata": {},
   "outputs": [],
   "source": []
  },
  {
   "cell_type": "code",
   "execution_count": null,
   "metadata": {},
   "outputs": [],
   "source": []
  }
 ],
 "metadata": {
  "kernelspec": {
   "display_name": "Python 3",
   "language": "python",
   "name": "python3"
  },
  "language_info": {
   "codemirror_mode": {
    "name": "ipython",
    "version": 3
   },
   "file_extension": ".py",
   "mimetype": "text/x-python",
   "name": "python",
   "nbconvert_exporter": "python",
   "pygments_lexer": "ipython3",
   "version": "3.7.6"
  }
 },
 "nbformat": 4,
 "nbformat_minor": 4
}
