{
 "cells": [
  {
   "cell_type": "code",
   "execution_count": 1,
   "metadata": {},
   "outputs": [],
   "source": [
    "import pandas as pd\n",
    "import numpy as np"
   ]
  },
  {
   "cell_type": "code",
   "execution_count": 2,
   "metadata": {},
   "outputs": [],
   "source": [
    "# # df1.fillna(0)#Filling all na values with 0\n",
    "# # #IF YOU want for specific columns, then pass diction\n",
    "# # # df1.fillna({\n",
    "# # #     \"temperature\": 0,\n",
    "# # #      \"event\": 0,\n",
    "# # #      \"windspeed\":\"Not Event\" \n",
    "# # # })\n",
    "# # # If you want to replace previous value with NaN\n",
    "# # df1.fillna(method=\"ffill\")\n",
    "# # # If you want to replace value from columns wise not row wise, then use\n",
    "# # df1.fillna(method=\"bfill\", axis=\"columns\", limit=1) #This method will replace only one value in one columns columnwise\n",
    "# df.interpolate(method=\"time\") # This will interpolate considering the date.sINCE WE DO NOT have date as index, therefore\n",
    "# #it is not wokring\n",
    "# df.dropna() #Drop all rwos with nan values\n",
    "# df.dropna(how=\"all\")# it will drop rows only that have all Nan Value in its all columns\n",
    "# #But if you want tell ,if i have 2 na then drop row then use following\n",
    "# df.dropna(thresh=1)#if 1 value is valid, keep row"
   ]
  },
  {
   "cell_type": "code",
   "execution_count": null,
   "metadata": {},
   "outputs": [],
   "source": [
    "# new=pd.read_csv(\"weather_repalce.csv\")\n",
    "# df\n",
    "# # # df.replace(-99999,np.NaN) #replacing -999 with np.NaN\n",
    "# # #iF YOU HAVE two value, supllyl list\n",
    "# # df=pd.read_csv(\"weather_repalce.csv\")\n",
    "# # # df\n",
    "# # # df.replace([-99999, 32,6],\"A\")\n",
    "# # #Or if you want to replace different values with different things, use dictionary \n",
    "# # #Now key will be old valued : values will be your choice of new value\n",
    "# # p=df.replace({\n",
    "# #     -99999: 0,\n",
    "# #       7:\"Not event\",\n",
    "# #     })\n",
    "# # # Now if you want to change values based on columns with different values use dict.\n",
    "# # df\n",
    "# # df.replace({\n",
    "# #     'temperature': -99999, #it will change  -99999 values  in temperature column\n",
    "# #     \"windspeed\" : [-99999,7],#it will change  -99999 & 7 values  in windseepd column\n",
    "# #     \"event\" : [\"Rain\",0]} #it will change  rain and 0 values  in event \n",
    "    \n",
    "# #     , 0)# will change to 0\n",
    "# # df\n",
    "# # Now if you want to change values based on columns with different values use dict.\n",
    "# # df\n",
    "# df.replace({\n",
    "#     'temperature': -99999, #it will change  -99999 values  in temperature column\n",
    "#     \"windspeed\" : [-99999,7],#it will change  -99999 & 7 values  in windseepd column\n",
    "#     \"event\" : [\"Rain\",0]} #it will change  rain and 0 values  in event \n",
    "    \n",
    "#     , {\n",
    "#         'temperature':0,\n",
    "#         \"windspeed\" :\"Not measured\",\n",
    "#         \"event\" : \"No Event\"\n",
    "#     })# will change to 0\n"
   ]
  }
 ],
 "metadata": {
  "kernelspec": {
   "display_name": "Python 3",
   "language": "python",
   "name": "python3"
  },
  "language_info": {
   "codemirror_mode": {
    "name": "ipython",
    "version": 3
   },
   "file_extension": ".py",
   "mimetype": "text/x-python",
   "name": "python",
   "nbconvert_exporter": "python",
   "pygments_lexer": "ipython3",
   "version": "3.7.6"
  }
 },
 "nbformat": 4,
 "nbformat_minor": 4
}
