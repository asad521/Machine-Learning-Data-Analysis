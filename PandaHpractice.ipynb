{
 "cells": [
  {
   "cell_type": "code",
   "execution_count": 26,
   "metadata": {},
   "outputs": [],
   "source": [
    "import pandas as pd\n",
    "m1=df.temperature.max()\n",
    "m2=df.temperature\n",
    "m3=pd.Series(m1)\n",
    "df[m2 & m3]\n",
    "#All Above statement is equal to \n",
    "df[df.temperature==df.temperature.max()] ###\n",
    "#Above statement is equal to \n",
    "#df.temperature>=35 #Thats why it did not give type error \n",
    "df[['temperature','event']][df.temperature==df.temperature.max()]\n",
    "df[df.temperature==df.temperature.max()][['temperature','event']]"
   ]
  },
  {
   "cell_type": "code",
   "execution_count": 213,
   "metadata": {},
   "outputs": [
    {
     "data": {
      "text/plain": [
       "<bound method Series.nlargest of 0                                         Avatar\n",
       "1       Pirates of the Caribbean: At World's End\n",
       "2                                        Spectre\n",
       "3                          The Dark Knight Rises\n",
       "4                                    John Carter\n",
       "                          ...                   \n",
       "4798                                 El Mariachi\n",
       "4799                                   Newlyweds\n",
       "4800                   Signed, Sealed, Delivered\n",
       "4801                            Shanghai Calling\n",
       "4802                           My Date with Drew\n",
       "Name: original_title, Length: 4803, dtype: object>"
      ]
     },
     "execution_count": 213,
     "metadata": {},
     "output_type": "execute_result"
    }
   ],
   "source": [
    "#Sorting series\n",
    "mdf= pd.read_csv(\"tmdb_5000_movies.csv\", usecols=['original_title'], squeeze=True) #opening file ,select 1 colm,and covnert to series\n",
    "mdf\n",
    "mdf.sort_index() #sorted accord to index.Only showing sorting.For that inplace paramter\n",
    "mdf.sort_index(ascending=False)  #desceinding\n",
    "mdf.sort_values(ascending=False)  #desceindingm\n",
    "mdf\n"
   ]
  },
  {
   "cell_type": "code",
   "execution_count": 290,
   "metadata": {},
   "outputs": [
    {
     "data": {
      "text/plain": [
       "Q    1\n",
       "F    4\n",
       "C    5\n",
       "P    6\n",
       "dtype: int64"
      ]
     },
     "execution_count": 290,
     "metadata": {},
     "output_type": "execute_result"
    }
   ],
   "source": [
    "######Index methods ########\n",
    "#######All below metthod or attributes can be used with both row and columns index\n",
    "#Both are raw andn column index object\n",
    "type(mdf.index)   #Both are index .This is raw index\n",
    "type(mdf.columns) #Both are index .This is columns index\n",
    "#You can use slicing with raw and columns index same as lst\n",
    "mdf.index[3:9]# index between 3.9\n",
    "mdf.index[::2] #index with step size two \n",
    "mdf.index[::-1] # reverswe indes\n",
    "mdf.index[-2:]  # last rows index\n",
    "#All above can be used with column index\n",
    "#To find the location of particular column or raw index\n",
    "mdf.index.get_loc('Spectre')\n",
    "mdf.index.is_unique\n",
    "#To creat custom index\n",
    "pi=pd.Index(['Q','F','C','P'])\n",
    "type(m)\n",
    "#To creat custom series\n",
    "n=pd.Series([1,4,5,6])\n",
    "type(n)\n",
    "#Assign index to series\n",
    "m=pd.Series([1,4,5,6], index=pi)\n",
    "\n"
   ]
  },
  {
   "cell_type": "code",
   "execution_count": 291,
   "metadata": {},
   "outputs": [],
   "source": [
    "df=pd.read_csv(\"master.csv\")"
   ]
  },
  {
   "cell_type": "code",
   "execution_count": 457,
   "metadata": {},
   "outputs": [
    {
     "data": {
      "text/plain": [
       "563"
      ]
     },
     "execution_count": 457,
     "metadata": {},
     "output_type": "execute_result"
    }
   ],
   "source": [
    "##filtering data\n",
    "\n",
    "\n",
    "df.country.unique()\n",
    "df.country\n",
    "##Here first your are selection the columns and applying condition\n",
    "##Other method of sleection columns \n",
    "# df['coutouryy']=='Israel' This is used when column name have spaces between them\n",
    "df.country=='Israel' #boolean output====df['coutounry']=='Israel'\n",
    "type(df.country=='Israel') \n",
    "df.country=='Israel' \n",
    "#If you want data ,pass it to originnal data frame\n",
    "df[df.country=='Israel']\n",
    "#What if you want multiple condition\n",
    "#Then writing multple condition and then pass boolean of condition of original dataframe\n",
    "c1=df.country=='Israel' #1st condition,output is boolean\n",
    "c2=df.sex=='male'       #2nd condition,output is boolean\n",
    "c3=df.year==2015      #3rd condition,output is boolean\n",
    "c4=df.year==2014      #4th condition,output is boolean\n",
    "type(c1)\n",
    "c1.dtype\n",
    "#Pass it to original\n",
    "df[c1 & c2 &(c3|c4)]\n",
    "#If you do want multiple columns, than use loc[to sepicy columns], ot ilock[, range]\n",
    "newdf=df.loc[c1 & c2 &(c3|c4)][['country','sex','age','year','suicides_no']]\n",
    "newdf.sum().suicides_no\n",
    "# What if i want to get above data but sorted according to age with index original\n"
   ]
  },
  {
   "cell_type": "code",
   "execution_count": 488,
   "metadata": {},
   "outputs": [
    {
     "data": {
      "text/html": [
       "<div>\n",
       "<style scoped>\n",
       "    .dataframe tbody tr th:only-of-type {\n",
       "        vertical-align: middle;\n",
       "    }\n",
       "\n",
       "    .dataframe tbody tr th {\n",
       "        vertical-align: top;\n",
       "    }\n",
       "\n",
       "    .dataframe thead th {\n",
       "        text-align: right;\n",
       "    }\n",
       "</style>\n",
       "<table border=\"1\" class=\"dataframe\">\n",
       "  <thead>\n",
       "    <tr style=\"text-align: right;\">\n",
       "      <th></th>\n",
       "      <th>country</th>\n",
       "      <th>sex</th>\n",
       "      <th>age</th>\n",
       "      <th>year</th>\n",
       "      <th>suicides_no</th>\n",
       "    </tr>\n",
       "  </thead>\n",
       "  <tbody>\n",
       "    <tr>\n",
       "      <th>0</th>\n",
       "      <td>Albania</td>\n",
       "      <td>male</td>\n",
       "      <td>15-24 years</td>\n",
       "      <td>1987</td>\n",
       "      <td>21</td>\n",
       "    </tr>\n",
       "    <tr>\n",
       "      <th>1</th>\n",
       "      <td>Albania</td>\n",
       "      <td>male</td>\n",
       "      <td>35-54 years</td>\n",
       "      <td>1987</td>\n",
       "      <td>16</td>\n",
       "    </tr>\n",
       "    <tr>\n",
       "      <th>2</th>\n",
       "      <td>Albania</td>\n",
       "      <td>female</td>\n",
       "      <td>15-24 years</td>\n",
       "      <td>1987</td>\n",
       "      <td>14</td>\n",
       "    </tr>\n",
       "    <tr>\n",
       "      <th>3</th>\n",
       "      <td>Albania</td>\n",
       "      <td>male</td>\n",
       "      <td>75+ years</td>\n",
       "      <td>1987</td>\n",
       "      <td>1</td>\n",
       "    </tr>\n",
       "    <tr>\n",
       "      <th>4</th>\n",
       "      <td>Albania</td>\n",
       "      <td>male</td>\n",
       "      <td>25-34 years</td>\n",
       "      <td>1987</td>\n",
       "      <td>9</td>\n",
       "    </tr>\n",
       "    <tr>\n",
       "      <th>...</th>\n",
       "      <td>...</td>\n",
       "      <td>...</td>\n",
       "      <td>...</td>\n",
       "      <td>...</td>\n",
       "      <td>...</td>\n",
       "    </tr>\n",
       "    <tr>\n",
       "      <th>27815</th>\n",
       "      <td>Uzbekistan</td>\n",
       "      <td>female</td>\n",
       "      <td>35-54 years</td>\n",
       "      <td>2014</td>\n",
       "      <td>107</td>\n",
       "    </tr>\n",
       "    <tr>\n",
       "      <th>27816</th>\n",
       "      <td>Uzbekistan</td>\n",
       "      <td>female</td>\n",
       "      <td>75+ years</td>\n",
       "      <td>2014</td>\n",
       "      <td>9</td>\n",
       "    </tr>\n",
       "    <tr>\n",
       "      <th>27817</th>\n",
       "      <td>Uzbekistan</td>\n",
       "      <td>male</td>\n",
       "      <td>5-14 years</td>\n",
       "      <td>2014</td>\n",
       "      <td>60</td>\n",
       "    </tr>\n",
       "    <tr>\n",
       "      <th>27818</th>\n",
       "      <td>Uzbekistan</td>\n",
       "      <td>female</td>\n",
       "      <td>5-14 years</td>\n",
       "      <td>2014</td>\n",
       "      <td>44</td>\n",
       "    </tr>\n",
       "    <tr>\n",
       "      <th>27819</th>\n",
       "      <td>Uzbekistan</td>\n",
       "      <td>female</td>\n",
       "      <td>55-74 years</td>\n",
       "      <td>2014</td>\n",
       "      <td>21</td>\n",
       "    </tr>\n",
       "  </tbody>\n",
       "</table>\n",
       "<p>25756 rows × 5 columns</p>\n",
       "</div>"
      ],
      "text/plain": [
       "          country     sex          age  year  suicides_no\n",
       "0         Albania    male  15-24 years  1987           21\n",
       "1         Albania    male  35-54 years  1987           16\n",
       "2         Albania  female  15-24 years  1987           14\n",
       "3         Albania    male    75+ years  1987            1\n",
       "4         Albania    male  25-34 years  1987            9\n",
       "...           ...     ...          ...   ...          ...\n",
       "27815  Uzbekistan  female  35-54 years  2014          107\n",
       "27816  Uzbekistan  female    75+ years  2014            9\n",
       "27817  Uzbekistan    male   5-14 years  2014           60\n",
       "27818  Uzbekistan  female   5-14 years  2014           44\n",
       "27819  Uzbekistan  female  55-74 years  2014           21\n",
       "\n",
       "[25756 rows x 5 columns]"
      ]
     },
     "execution_count": 488,
     "metadata": {},
     "output_type": "execute_result"
    }
   ],
   "source": [
    "df.year>-201\n",
    "c1=df.year<=2010\n",
    "c3=df.year>=1990\n",
    "df.loc[c1 & c3]\n",
    "## or you can use between\n",
    "c4=df.year.between(1990,2010)\n",
    "df.loc[c4]\n",
    "#IF YOU WANT only two year , use\n",
    "c4=df.year.isin([2004,2010])\n",
    "df.loc[c4]`#showing only  2004 and 2010 data\n",
    "df.loc[~~c4]"
   ]
  }
 ],
 "metadata": {
  "celltoolbar": "Raw Cell Format",
  "kernelspec": {
   "display_name": "Python 3",
   "language": "python",
   "name": "python3"
  },
  "language_info": {
   "codemirror_mode": {
    "name": "ipython",
    "version": 3
   },
   "file_extension": ".py",
   "mimetype": "text/x-python",
   "name": "python",
   "nbconvert_exporter": "python",
   "pygments_lexer": "ipython3",
   "version": "3.7.6"
  }
 },
 "nbformat": 4,
 "nbformat_minor": 4
}
